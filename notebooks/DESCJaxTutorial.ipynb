{
  "nbformat": 4,
  "nbformat_minor": 0,
  "metadata": {
    "colab": {
      "name": "DESCJaxTutorial.ipynb",
      "provenance": [],
      "collapsed_sections": [],
      "authorship_tag": "ABX9TyO7A0FrrTLodX3lbbJpbQXn",
      "include_colab_link": true
    },
    "kernelspec": {
      "name": "python3",
      "display_name": "Python 3"
    },
    "language_info": {
      "name": "python"
    },
    "accelerator": "GPU"
  },
  "cells": [
    {
      "cell_type": "markdown",
      "metadata": {
        "id": "view-in-github",
        "colab_type": "text"
      },
      "source": [
        "<a href=\"https://colab.research.google.com/github/LSSTDESC/jax-perlmutter-tutorials/blob/main/notebooks/DESCJaxTutorial.ipynb\" target=\"_parent\"><img src=\"https://colab.research.google.com/assets/colab-badge.svg\" alt=\"Open In Colab\"/></a>"
      ]
    },
    {
      "cell_type": "markdown",
      "metadata": {
        "id": "KLp2z7Vg0tBN"
      },
      "source": [
        "# DESC JAX Tutorial\n",
        "\n",
        "Author:\n",
        "- [@EiffL](https://github.com/EiffL)(Francois Lanusse)\n",
        "\n",
        "## Overview\n",
        "\n",
        "The goal of this tutorial is to cover some of the essential JAX mechanisms, and\n",
        "put them into practice for typical computations that may be required for a project like CCL\n",
        "\n",
        "**Learning objectives**:\n",
        "- Learn about JAX function transformations\n",
        "- Learn about common gotchas when using JAX\n",
        "- Implement integrations and ODE in JAX\n",
        "\n"
      ]
    },
    {
      "cell_type": "markdown",
      "metadata": {
        "id": "5GCYpxBr1iwy"
      },
      "source": [
        "## JAX 101\n",
        "\n",
        "We will start by a brief overview of JAX fundamentals, this is an abrieged version of what you can find in the official JAX documentation:\n",
        "- [JAX Quickstart](https://jax.readthedocs.io/en/latest/notebooks/quickstart.html)\n",
        "- [JAX 101](https://jax.readthedocs.io/en/latest/jax-101/index.html)\n",
        "\n",
        "\n"
      ]
    },
    {
      "cell_type": "code",
      "metadata": {
        "id": "7mMBVPHCKvZv",
        "colab": {
          "base_uri": "https://localhost:8080/"
        },
        "outputId": "3aa4ac83-eb79-42f1-b929-7d6201673a94"
      },
      "source": [
        "%pylab inline\n",
        "import jax\n",
        "import jax.numpy as np\n",
        "import numpy as onp    # We'll import good old numpy as onp for reference if we need it"
      ],
      "execution_count": null,
      "outputs": [
        {
          "output_type": "stream",
          "text": [
            "Populating the interactive namespace from numpy and matplotlib\n"
          ],
          "name": "stdout"
        },
        {
          "output_type": "stream",
          "text": [
            "/usr/local/lib/python3.7/dist-packages/IPython/core/magics/pylab.py:161: UserWarning: pylab import has clobbered these variables: ['np']\n",
            "`%matplotlib` prevents importing * from pylab and numpy\n",
            "  \"\\n`%matplotlib` prevents importing * from pylab and numpy\"\n"
          ],
          "name": "stderr"
        }
      ]
    },
    {
      "cell_type": "markdown",
      "metadata": {
        "id": "Tygps2h4MdUu"
      },
      "source": [
        "#### Random Numbers (let's get it out of the way)\n",
        "\n",
        "JAX has a much more evolved approach to random number generation than NumPy, design to allow parallel random number generators. It is also needed to statisfy the JAX pure function approach.\n",
        "\n",
        "To use any stochastic function in JAX, you need to specify a key, which is a seed that the function can then use internally. So let's create one:"
      ]
    },
    {
      "cell_type": "code",
      "metadata": {
        "id": "yPtBk2gaNC7-"
      },
      "source": [
        "rng_key = jax.random.PRNGKey(42) # Because 42 is the answer"
      ],
      "execution_count": null,
      "outputs": []
    },
    {
      "cell_type": "markdown",
      "metadata": {
        "id": "BvG6Q-oKNPxQ"
      },
      "source": [
        "Then everytime I need a key for a stochastic operation I can use:"
      ]
    },
    {
      "cell_type": "code",
      "metadata": {
        "id": "IEUk-Tb2NL31"
      },
      "source": [
        "key, rng_key = jax.random.split(rng_key)\n",
        "random_array = jax.random.normal(key, shape=[10])"
      ],
      "execution_count": null,
      "outputs": []
    },
    {
      "cell_type": "code",
      "metadata": {
        "id": "bQo3MZ3TFAta"
      },
      "source": [
        "key2, rng_key = jax.random.split(rng_key)\n",
        "random_array2 = jax.random.normal(key2, shape=[10])"
      ],
      "execution_count": null,
      "outputs": []
    },
    {
      "cell_type": "code",
      "metadata": {
        "colab": {
          "base_uri": "https://localhost:8080/"
        },
        "id": "4T01ZmGaFGms",
        "outputId": "ce11a8dd-0bfc-4718-f559-dbc87b7cd2e3"
      },
      "source": [
        "random_array2, random_array"
      ],
      "execution_count": null,
      "outputs": [
        {
          "output_type": "execute_result",
          "data": {
            "text/plain": [
              "(DeviceArray([-0.55206573,  0.44049525, -0.22900735,  0.35642126,\n",
              "              -0.9225792 , -1.743125  , -1.1097171 , -1.9355716 ,\n",
              "              -2.0792866 , -0.9502306 ], dtype=float32),\n",
              " DeviceArray([ 0.84930754,  1.9506735 , -0.04741636, -0.81005794,\n",
              "              -0.8750629 , -0.8775995 , -0.83418566, -1.6659447 ,\n",
              "               1.4172531 , -0.9020335 ], dtype=float32))"
            ]
          },
          "metadata": {
            "tags": []
          },
          "execution_count": 9
        }
      ]
    },
    {
      "cell_type": "markdown",
      "metadata": {
        "id": "2VjvRittNcqe"
      },
      "source": [
        "this key is only used for this operation, and next time I need to run an stochastic operation I can split again `rng_key` to obtain a new key."
      ]
    },
    {
      "cell_type": "markdown",
      "metadata": {
        "id": "Lj3QYTfLK9ZX"
      },
      "source": [
        "#### JAX works just like NumPy (most of the time)\n",
        "\n",
        "Let's start with very simple stuff, a matrix multiplication:"
      ]
    },
    {
      "cell_type": "code",
      "metadata": {
        "id": "T9V4ic0FK8d2"
      },
      "source": [
        "key1, key2, rng_key = jax.random.split(rng_key, 3)\n",
        "\n",
        "# I'm gonna create some random matrices\n",
        "A = jax.random.normal(key1, [500,1000])\n",
        "B = jax.random.normal(key2, [1000, 500])"
      ],
      "execution_count": null,
      "outputs": []
    },
    {
      "cell_type": "code",
      "metadata": {
        "colab": {
          "base_uri": "https://localhost:8080/"
        },
        "id": "pxzam8oFOTvE",
        "outputId": "d0c42c43-26b4-4308-9b30-e5b1fbb47b7a"
      },
      "source": [
        "C = np.dot(A, B) \n",
        "print(\"Shape of result:\", C.shape)"
      ],
      "execution_count": null,
      "outputs": [
        {
          "output_type": "stream",
          "text": [
            "Shape of result: (500, 500)\n"
          ],
          "name": "stdout"
        }
      ]
    },
    {
      "cell_type": "markdown",
      "metadata": {
        "id": "oKJz46XBOc04"
      },
      "source": [
        "Under the hood, if you have a GPU, this matrix multiplication happened on GPU ;-) "
      ]
    },
    {
      "cell_type": "code",
      "metadata": {
        "colab": {
          "base_uri": "https://localhost:8080/"
        },
        "id": "5Ijo7M0qPvlU",
        "outputId": "2231b3b4-bae0-4354-afb8-9b2d9da2b975"
      },
      "source": [
        "C.argmax() # Random numpy operation"
      ],
      "execution_count": null,
      "outputs": [
        {
          "output_type": "execute_result",
          "data": {
            "text/plain": [
              "DeviceArray(63784, dtype=int32)"
            ]
          },
          "metadata": {
            "tags": []
          },
          "execution_count": 15
        }
      ]
    },
    {
      "cell_type": "markdown",
      "metadata": {
        "id": "9Ocq_MS5PuIw"
      },
      "source": [
        "\n",
        "But you also have access to a lot of other linear algebra tools:\n",
        "\n",
        "- [jax.scipy.linalg](https://jax.readthedocs.io/en/latest/jax.scipy.html#module-jax.scipy.linalg)\n",
        "- [jax.scipy.optimize](https://jax.readthedocs.io/en/latest/jax.scipy.html#module-jax.scipy.optimize)\n",
        "- [jax.scipy.special](https://jax.readthedocs.io/en/latest/jax.scipy.html#module-jax.scipy.special)"
      ]
    },
    {
      "cell_type": "code",
      "metadata": {
        "id": "FWhaHu5SOboY"
      },
      "source": [
        "from jax.scipy.linalg import svd\n",
        "U, s, V = svd(C)  # Example of an SVD"
      ],
      "execution_count": null,
      "outputs": []
    },
    {
      "cell_type": "code",
      "metadata": {
        "id": "Qb6MbfLWGCdJ"
      },
      "source": [
        "from scipy.linalg import svd\n",
        "U, s, V = svd(C)"
      ],
      "execution_count": null,
      "outputs": []
    },
    {
      "cell_type": "code",
      "metadata": {
        "colab": {
          "base_uri": "https://localhost:8080/"
        },
        "id": "UjxKHQoVGIM4",
        "outputId": "de205da9-90d1-4e02-8f70-5cc35fb12615"
      },
      "source": [
        "U"
      ],
      "execution_count": null,
      "outputs": [
        {
          "output_type": "execute_result",
          "data": {
            "text/plain": [
              "array([[ 0.01336075, -0.01101637, -0.00279735, ...,  0.05248459,\n",
              "         0.11655822, -0.02028303],\n",
              "       [ 0.04535291, -0.0395796 ,  0.04957964, ...,  0.03929463,\n",
              "        -0.01981924,  0.03008807],\n",
              "       [ 0.11921653,  0.00844285, -0.053387  , ..., -0.02711241,\n",
              "         0.02167287, -0.01226401],\n",
              "       ...,\n",
              "       [-0.01325856,  0.00375808, -0.06297591, ..., -0.05795874,\n",
              "        -0.0386828 , -0.02884904],\n",
              "       [-0.00371668,  0.04458942, -0.01970376, ...,  0.04075874,\n",
              "        -0.02886263, -0.0596433 ],\n",
              "       [ 0.03717032, -0.0554039 ,  0.02463041, ..., -0.04617457,\n",
              "        -0.09748892,  0.01552525]], dtype=float32)"
            ]
          },
          "metadata": {
            "tags": []
          },
          "execution_count": 19
        }
      ]
    },
    {
      "cell_type": "markdown",
      "metadata": {
        "id": "BJJi39Z3QVcA"
      },
      "source": [
        "#### Just in Time Compilation\n",
        "\n",
        "\n",
        "When you execute JAX code without JIT, you run through the code at the Python level, until you encounter the low level XLA interface, which is hidden behind the numpy API. At that point, the XLA bit of code is executed, and the result is returned to Python which continues to run through the next commands.\n",
        "\n",
        "This can be pretty slow because the execution is still driven by Python.\n",
        "\n",
        "So the idea of JAX is that you can jit a big function, to turn it into a single,compiled XLA graph, that runs without needing Python"
      ]
    },
    {
      "cell_type": "code",
      "metadata": {
        "id": "zjY3eJkJOblQ"
      },
      "source": [
        "def func(A, B):\n",
        "  C = np.dot(A, B)\n",
        "  C = np.where(C>0, C, 0)\n",
        "  return C"
      ],
      "execution_count": null,
      "outputs": []
    },
    {
      "cell_type": "code",
      "metadata": {
        "colab": {
          "base_uri": "https://localhost:8080/"
        },
        "id": "rM_5ImynObiC",
        "outputId": "4312a2d9-84a0-4779-83b9-251e5690096e"
      },
      "source": [
        "%timeit func(A, B).block_until_ready()"
      ],
      "execution_count": null,
      "outputs": [
        {
          "output_type": "stream",
          "text": [
            "The slowest run took 137.46 times longer than the fastest. This could mean that an intermediate result is being cached.\n",
            "1000 loops, best of 5: 1.02 ms per loop\n"
          ],
          "name": "stdout"
        }
      ]
    },
    {
      "cell_type": "code",
      "metadata": {
        "id": "GcAr0qngObZJ",
        "colab": {
          "base_uri": "https://localhost:8080/"
        },
        "outputId": "1048cb69-10fb-4928-a1a6-c45d1aa6add0"
      },
      "source": [
        "jitted_func = jax.jit(func)\n",
        "%time jitted_func(A, B).block_until_ready(); # First execution won't be fast"
      ],
      "execution_count": null,
      "outputs": [
        {
          "output_type": "stream",
          "text": [
            "CPU times: user 18.5 ms, sys: 628 µs, total: 19.1 ms\n",
            "Wall time: 72.6 ms\n"
          ],
          "name": "stdout"
        },
        {
          "output_type": "execute_result",
          "data": {
            "text/plain": [
              "DeviceArray([[ 8.078229 ,  0.       , 52.79737  , ...,  0.       ,\n",
              "               4.5134783, 34.29931  ],\n",
              "             [ 0.       , 49.137123 ,  0.       , ..., 17.208092 ,\n",
              "               0.       , 20.391201 ],\n",
              "             [ 0.       , 42.54201  , 12.696964 , ..., 17.1001   ,\n",
              "              34.664677 , 22.168022 ],\n",
              "             ...,\n",
              "             [ 0.       ,  0.       , 13.421769 , ...,  0.       ,\n",
              "              16.509678 , 17.185503 ],\n",
              "             [38.584465 ,  0.6224303,  0.       , ...,  0.5508528,\n",
              "              21.78602  ,  0.       ],\n",
              "             [41.79374  ,  0.       ,  8.752552 , ...,  0.       ,\n",
              "               6.700938 , 49.400196 ]], dtype=float32)"
            ]
          },
          "metadata": {
            "tags": []
          },
          "execution_count": 22
        }
      ]
    },
    {
      "cell_type": "code",
      "metadata": {
        "colab": {
          "base_uri": "https://localhost:8080/"
        },
        "id": "TLUE4XgHSGZi",
        "outputId": "df4a3264-b917-4ae0-e9d6-d5a629d374f8"
      },
      "source": [
        "%timeit jitted_func(A,B).block_until_ready() #  Next calls are fast"
      ],
      "execution_count": null,
      "outputs": [
        {
          "output_type": "stream",
          "text": [
            "The slowest run took 8.99 times longer than the fastest. This could mean that an intermediate result is being cached.\n",
            "10000 loops, best of 5: 138 µs per loop\n"
          ],
          "name": "stdout"
        }
      ]
    },
    {
      "cell_type": "markdown",
      "metadata": {
        "id": "Y7crL58eTXvm"
      },
      "source": [
        "For fun, we can compare to CPU using good old numpy:"
      ]
    },
    {
      "cell_type": "code",
      "metadata": {
        "id": "7PaXF4baTWj_"
      },
      "source": [
        "A_np = onp.array(A)\n",
        "B_np = onp.array(B)\n",
        "\n",
        "def func_onp(A, B):\n",
        "  C = onp.dot(A, B)\n",
        "  C = onp.where(C>0, C, 0)\n",
        "  return C"
      ],
      "execution_count": null,
      "outputs": []
    },
    {
      "cell_type": "code",
      "metadata": {
        "colab": {
          "base_uri": "https://localhost:8080/"
        },
        "id": "7UEfGitOSGW3",
        "outputId": "ff8b3bff-dde2-4e7b-86e4-097db306028d"
      },
      "source": [
        "%timeit func_onp(A_np, B_np)"
      ],
      "execution_count": null,
      "outputs": [
        {
          "output_type": "stream",
          "text": [
            "100 loops, best of 5: 6.13 ms per loop\n"
          ],
          "name": "stdout"
        }
      ]
    },
    {
      "cell_type": "markdown",
      "metadata": {
        "id": "vPwKnQFGTu1P"
      },
      "source": [
        "#### Auto-batching with vmap\n",
        "\n",
        "\n",
        "Any function can be \"batched\" which means that you add a new dimension to the input/output tensors."
      ]
    },
    {
      "cell_type": "markdown",
      "metadata": {
        "id": "5tFLmJV9UoR3"
      },
      "source": [
        "So, let's say I want to make my previous function compute that operation for 10 matrices at once.\n",
        "\n",
        "If I try to use the function directly, it won't work, because  that function was written thinking about single input matrices:"
      ]
    },
    {
      "cell_type": "code",
      "metadata": {
        "id": "UewAollHUn9T"
      },
      "source": [
        "A2 = jax.random.normal(key1, shape=[10, 500,1000])\n",
        "B2 = jax.random.normal(key2, shape=[10, 1000, 500])"
      ],
      "execution_count": null,
      "outputs": []
    },
    {
      "cell_type": "code",
      "metadata": {
        "colab": {
          "base_uri": "https://localhost:8080/"
        },
        "id": "yeNmmeDNUmUZ",
        "outputId": "a76cba62-3947-4c91-defb-8d60d215df11"
      },
      "source": [
        "func(A2, B2).shape"
      ],
      "execution_count": null,
      "outputs": [
        {
          "output_type": "execute_result",
          "data": {
            "text/plain": [
              "(10, 500, 10, 500)"
            ]
          },
          "metadata": {
            "tags": []
          },
          "execution_count": 27
        }
      ]
    },
    {
      "cell_type": "markdown",
      "metadata": {
        "id": "mXg705PcVf_Q"
      },
      "source": [
        "But we would have expected an output of shape [10, 500, 500].\n",
        "\n",
        "So, let's use vmap:"
      ]
    },
    {
      "cell_type": "code",
      "metadata": {
        "id": "pCkHdY0mSGTc"
      },
      "source": [
        "batched_func = jax.vmap(func)"
      ],
      "execution_count": null,
      "outputs": []
    },
    {
      "cell_type": "code",
      "metadata": {
        "colab": {
          "base_uri": "https://localhost:8080/"
        },
        "id": "KWnbNgiFVvAA",
        "outputId": "4fa9b477-2fc3-481c-acbd-0fdc713b1ddc"
      },
      "source": [
        "batched_func(A2,B2).shape"
      ],
      "execution_count": null,
      "outputs": [
        {
          "output_type": "execute_result",
          "data": {
            "text/plain": [
              "(10, 500, 500)"
            ]
          },
          "metadata": {
            "tags": []
          },
          "execution_count": 33
        }
      ]
    },
    {
      "cell_type": "markdown",
      "metadata": {
        "id": "L9jRHr1fVzd9"
      },
      "source": [
        "Boom :-) We just turned a function designed to work on a single example of matrices into a batched function.\n",
        "\n",
        "And you can also compose jit and vmap"
      ]
    },
    {
      "cell_type": "code",
      "metadata": {
        "id": "9Qpr2NKjVu7a"
      },
      "source": [
        "cool_func = jax.jit(jax.vmap(func))"
      ],
      "execution_count": null,
      "outputs": []
    },
    {
      "cell_type": "code",
      "metadata": {
        "colab": {
          "base_uri": "https://localhost:8080/"
        },
        "id": "w6QrYek9WIgi",
        "outputId": "7297859c-d25d-4e43-ad74-432928e85472"
      },
      "source": [
        "cool_func(A2,B2)\n",
        "%timeit cool_func(A2,B2).block_until_ready()"
      ],
      "execution_count": null,
      "outputs": [
        {
          "output_type": "stream",
          "text": [
            "1000 loops, best of 5: 780 µs per loop\n"
          ],
          "name": "stdout"
        }
      ]
    },
    {
      "cell_type": "markdown",
      "metadata": {
        "id": "KTTg_27xWe6f"
      },
      "source": [
        "Note that this takes less than 10 times the execution time of a single instance."
      ]
    },
    {
      "cell_type": "markdown",
      "metadata": {
        "id": "79WZ7_TaXI0o"
      },
      "source": [
        "#### Getting gradients with grad, jacfwd\n",
        "\n",
        "Obviously, one of the things we care about the most here are gradients, so let's give it a try."
      ]
    },
    {
      "cell_type": "code",
      "metadata": {
        "id": "MbHuQ3jlWeZH"
      },
      "source": [
        "# I'm gonna create an array of some parameters\n",
        "params = jax.random.normal(key1, shape=[500])\n",
        "\n",
        "def f(params, A, B):\n",
        "  C = np.dot(A, B)\n",
        "  C = np.where(C>0, C, 0)\n",
        "  return np.sum(C.dot(params)**2)"
      ],
      "execution_count": null,
      "outputs": []
    },
    {
      "cell_type": "code",
      "metadata": {
        "colab": {
          "base_uri": "https://localhost:8080/"
        },
        "id": "Buq0kRr2WIdE",
        "outputId": "8601182f-1434-48d5-e97a-c54f955c9338"
      },
      "source": [
        "f(params, A, B) # Ok so this function does something, ok:"
      ],
      "execution_count": null,
      "outputs": [
        {
          "output_type": "execute_result",
          "data": {
            "text/plain": [
              "DeviceArray(1.816143e+08, dtype=float32)"
            ]
          },
          "metadata": {
            "tags": []
          },
          "execution_count": 35
        }
      ]
    },
    {
      "cell_type": "markdown",
      "metadata": {
        "id": "Ns9WslCzYHq4"
      },
      "source": [
        "Let me take the derivative of this function. jax.grad will compute the derivative of this function with respect to the first argument of f:"
      ]
    },
    {
      "cell_type": "code",
      "metadata": {
        "id": "AauNAYxMYHWV"
      },
      "source": [
        "df_dx = jax.grad(f)"
      ],
      "execution_count": null,
      "outputs": []
    },
    {
      "cell_type": "code",
      "metadata": {
        "colab": {
          "base_uri": "https://localhost:8080/"
        },
        "id": "mXplLV8rIsBe",
        "outputId": "96aade9b-499e-40a5-d87c-e441229f64b4"
      },
      "source": [
        "df_dx"
      ],
      "execution_count": null,
      "outputs": [
        {
          "output_type": "execute_result",
          "data": {
            "text/plain": [
              "<function __main__.f>"
            ]
          },
          "metadata": {
            "tags": []
          },
          "execution_count": 37
        }
      ]
    },
    {
      "cell_type": "code",
      "metadata": {
        "id": "743KyFaqVu3X"
      },
      "source": [
        "g = df_dx(params, A, B)"
      ],
      "execution_count": null,
      "outputs": []
    },
    {
      "cell_type": "code",
      "metadata": {
        "colab": {
          "base_uri": "https://localhost:8080/"
        },
        "id": "K9KsAfJSSGQQ",
        "outputId": "58301d07-6de8-4c8c-a4bd-a0ac1a4a0d07"
      },
      "source": [
        "g.shape # And we can check that the grad has the same dimensionality as the\n",
        "        # input array"
      ],
      "execution_count": null,
      "outputs": [
        {
          "output_type": "execute_result",
          "data": {
            "text/plain": [
              "(500,)"
            ]
          },
          "metadata": {
            "tags": []
          },
          "execution_count": 39
        }
      ]
    },
    {
      "cell_type": "markdown",
      "metadata": {
        "id": "xctoRrF6YsJS"
      },
      "source": [
        "But what happens if I want to take the Jacobian of a  non scalar function? Well, let's just use jax.jacobian"
      ]
    },
    {
      "cell_type": "code",
      "metadata": {
        "id": "CG6CslaBYs5u"
      },
      "source": [
        "def f2(params, A, B):\n",
        "  C = np.dot(A, B)\n",
        "  return C.dot(params**2)"
      ],
      "execution_count": null,
      "outputs": []
    },
    {
      "cell_type": "code",
      "metadata": {
        "colab": {
          "base_uri": "https://localhost:8080/"
        },
        "id": "tQoNJdLJYsmu",
        "outputId": "e5a68739-88cb-4ffb-be83-475e6542dd4f"
      },
      "source": [
        "f2(params, A, B).shape"
      ],
      "execution_count": null,
      "outputs": [
        {
          "output_type": "execute_result",
          "data": {
            "text/plain": [
              "(500,)"
            ]
          },
          "metadata": {
            "tags": []
          },
          "execution_count": 194
        }
      ]
    },
    {
      "cell_type": "code",
      "metadata": {
        "id": "NsNzsx2GZC4g"
      },
      "source": [
        "df2_dx = jax.jacobian(f2)"
      ],
      "execution_count": null,
      "outputs": []
    },
    {
      "cell_type": "code",
      "metadata": {
        "colab": {
          "base_uri": "https://localhost:8080/"
        },
        "id": "AD5hI0w0ZC0M",
        "outputId": "7101b8da-0193-4e08-9130-bebc9904d281"
      },
      "source": [
        "df2_dx(params, A, B).shape"
      ],
      "execution_count": null,
      "outputs": [
        {
          "output_type": "execute_result",
          "data": {
            "text/plain": [
              "(500, 500)"
            ]
          },
          "metadata": {
            "tags": []
          },
          "execution_count": 42
        }
      ]
    },
    {
      "cell_type": "markdown",
      "metadata": {
        "id": "xA6jpGo5ZQ_9"
      },
      "source": [
        "Boom, we have computed:\n",
        "![image.png](data:image/png;base64,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)\n"
      ]
    },
    {
      "cell_type": "markdown",
      "metadata": {
        "id": "fFE8ZQ1IbDCf"
      },
      "source": [
        "But that's not all :-) You can compose gradients! For instance:"
      ]
    },
    {
      "cell_type": "code",
      "metadata": {
        "id": "5d2S0Nx5bBrE"
      },
      "source": [
        "dfunc_dx = jax.grad(lambda x, A, B: np.sum(jax.jacobian(f2)(x, A, B)))"
      ],
      "execution_count": null,
      "outputs": []
    },
    {
      "cell_type": "code",
      "metadata": {
        "colab": {
          "base_uri": "https://localhost:8080/"
        },
        "id": "38vqT693b1QC",
        "outputId": "d885030d-03b5-4771-d4fc-fc73af3e23a9"
      },
      "source": [
        "dfunc_dx(params, A, B).shape"
      ],
      "execution_count": null,
      "outputs": [
        {
          "output_type": "execute_result",
          "data": {
            "text/plain": [
              "(500,)"
            ]
          },
          "metadata": {
            "tags": []
          },
          "execution_count": 44
        }
      ]
    },
    {
      "cell_type": "markdown",
      "metadata": {
        "id": "kFyDMwgZdISI"
      },
      "source": [
        "This is for instance what we used in the tomo challenge to get gradients of the Fisher matrix ;-) "
      ]
    },
    {
      "cell_type": "markdown",
      "metadata": {
        "id": "7b2fBmLMZ4lT"
      },
      "source": [
        "**Something to know about autodiff**: There are two types of autodiff, **forward** and **backward** automatic differentiation. JAX supports both, and you should know the  following:\n",
        "- backward autodiff is good when `f` has small dimensionality of output\n",
        "- forward autodiff is good when `f` has small dimensionality of input\n",
        "\n",
        "Depending on the relative size of inputs and outputs, you may prefer the dedicated `jax.jacfwd` and `jax.jacrev`\n",
        "\n",
        "Check the [autodiff cookbook](https://jax.readthedocs.io/en/latest/notebooks/autodiff_cookbook.html#) to know more."
      ]
    },
    {
      "cell_type": "markdown",
      "metadata": {
        "id": "vNTCXbopdW1z"
      },
      "source": [
        "\n",
        "## Where will JAX suprise you?\n",
        "\n",
        "As mentioned in the previous section, to get all of this goodness, JAX needs to\n",
        "make some assumptions, which may change a little bit from your habits, and therefore can suprise you at first."
      ]
    },
    {
      "cell_type": "markdown",
      "metadata": {
        "id": "FcOxOUSUP-aX"
      },
      "source": [
        "#### JAX wants pure functions\n",
        "\n",
        "JAX is based on a purely functional approach, with no side effects. A pure function is a function where the output only depends on the inputs of the function.\n",
        "\n",
        "Let's see what we mean by that by creating a simple jitted function:"
      ]
    },
    {
      "cell_type": "code",
      "metadata": {
        "id": "o1clGkW9d8Ui"
      },
      "source": [
        "@jax.jit\n",
        "def my_func(x):\n",
        "  print(\"Baguette\")\n",
        "  return 2*np.abs(x)"
      ],
      "execution_count": null,
      "outputs": []
    },
    {
      "cell_type": "code",
      "metadata": {
        "colab": {
          "base_uri": "https://localhost:8080/"
        },
        "id": "wKORuXW3eF7f",
        "outputId": "34e18830-fa53-443b-bcb8-031f7c34c15a"
      },
      "source": [
        "y = my_func(0) # The first time I execute it I get:"
      ],
      "execution_count": null,
      "outputs": [
        {
          "output_type": "stream",
          "text": [
            "Baguette\n"
          ],
          "name": "stdout"
        }
      ]
    },
    {
      "cell_type": "code",
      "metadata": {
        "id": "U7mQv1h7eF4m"
      },
      "source": [
        "y = my_func(1) #  Second time: I see no print!"
      ],
      "execution_count": null,
      "outputs": []
    },
    {
      "cell_type": "code",
      "metadata": {
        "colab": {
          "base_uri": "https://localhost:8080/"
        },
        "id": "JLRVVkrmeF1O",
        "outputId": "ab80f085-e314-4777-c9cd-ca921d0846d1"
      },
      "source": [
        "y = my_func(2.0) # Third time: The print is back???"
      ],
      "execution_count": null,
      "outputs": [
        {
          "output_type": "stream",
          "text": [
            "Baguette\n"
          ],
          "name": "stdout"
        }
      ]
    },
    {
      "cell_type": "markdown",
      "metadata": {
        "id": "h8K95kzEen1-"
      },
      "source": [
        "This is because print is a `side effect` and not actually something that depends on the input and affects the output, so it is not included in the compiled graph, it only shows up when JAX traces the function to recompile it.\n",
        "\n",
        "The fact that the third time work again is because JAX detected that the function was being applied on a float now, instead of an int, so it recompiles the function for float inputs."
      ]
    },
    {
      "cell_type": "markdown",
      "metadata": {
        "id": "nOwNV1QvfnlH"
      },
      "source": [
        "#### Your code encounters a tracer instead of an actual value"
      ]
    },
    {
      "cell_type": "markdown",
      "metadata": {
        "id": "g5pJ9Gl6fXPw"
      },
      "source": [
        "Another example of something suprising:"
      ]
    },
    {
      "cell_type": "code",
      "metadata": {
        "id": "a5kikaW4fWBy"
      },
      "source": [
        "@jax.jit\n",
        "def myfun(x):\n",
        "  if x > 1:\n",
        "    y = 0\n",
        "  else:\n",
        "    y = x\n",
        "  return y"
      ],
      "execution_count": null,
      "outputs": []
    },
    {
      "cell_type": "code",
      "metadata": {
        "id": "pK-ZQoUFfV_Q"
      },
      "source": [
        "myfun(1)"
      ],
      "execution_count": null,
      "outputs": []
    },
    {
      "cell_type": "markdown",
      "metadata": {
        "id": "6XFvQaGxgHDQ"
      },
      "source": [
        "This doesnt work because when JAX traces the function, it records the execution of the function using an abstract \"tracer\" instead of a concrete tensor. If your code encouters something that doesn't know how to handle such a tracer, it will trigger an error. \n",
        "\n",
        "To fix this here, you need to use the jax NumPy API:"
      ]
    },
    {
      "cell_type": "code",
      "metadata": {
        "colab": {
          "base_uri": "https://localhost:8080/"
        },
        "id": "S2JdxX47fV6v",
        "outputId": "ad5ade62-4f7b-4e99-ad62-4cf3556e16a6"
      },
      "source": [
        "@jax.jit\n",
        "def myfun(x):\n",
        "  y = np.where(x > 1, 0, x)\n",
        "  return y\n",
        "\n",
        "myfun(1)"
      ],
      "execution_count": null,
      "outputs": [
        {
          "output_type": "execute_result",
          "data": {
            "text/plain": [
              "DeviceArray(1, dtype=int32)"
            ]
          },
          "metadata": {
            "tags": []
          },
          "execution_count": 51
        }
      ]
    },
    {
      "cell_type": "markdown",
      "metadata": {
        "id": "jO5I4OKUg8Pm"
      },
      "source": [
        "Or  use a lower level [jax.lax](https://jax.readthedocs.io/en/latest/jax.lax.html) control flow instruction. This is more advanced...\n",
        "\n",
        "Checkout [this part](https://jax.readthedocs.io/en/latest/notebooks/Common_Gotchas_in_JAX.html#structured-control-flow-primitives) of the JAX documentation maybe.\n",
        "\n",
        "\n",
        "$$\n",
        "\\begin{array} {r|rr} \n",
        "\\hline \\\n",
        "\\textrm{construct} \n",
        "& \\textrm{jit} \n",
        "& \\textrm{grad} \\\\\n",
        "\\hline \\\n",
        "\\textrm{if} & ❌ & ✔ \\\\\n",
        "\\textrm{for} & ✔* & ✔\\\\\n",
        "\\textrm{while} & ✔* & ✔\\\\\n",
        "\\textrm{lax.cond} & ✔ & ✔\\\\\n",
        "\\textrm{lax.while_loop} & ✔ & \\textrm{fwd}\\\\\n",
        "\\textrm{lax.fori_loop} & ✔ & \\textrm{fwd}\\\\\n",
        "\\textrm{lax.scan} & ✔ & ✔\\\\\n",
        "\\hline\n",
        "\\end{array}\n",
        "$$\n",
        "<center>$\\ast$ = argument-__value__-independent loop condition - unrolls the loop </center>\n",
        "\n"
      ]
    },
    {
      "cell_type": "markdown",
      "metadata": {
        "id": "0b6PfNRQHHJa"
      },
      "source": [
        "#### In JAX you can't assign values to an array"
      ]
    },
    {
      "cell_type": "code",
      "metadata": {
        "id": "ix8HADgW4GE8"
      },
      "source": [
        "myarray = np.arange(10)   # Let's create and array\n",
        "myarray[5] = 0            # And try to assign a value"
      ],
      "execution_count": null,
      "outputs": []
    },
    {
      "cell_type": "markdown",
      "metadata": {
        "id": "xoqnZZ6nIDZM"
      },
      "source": [
        "**The reason**: Allowing in-place mutation of variables makes the tracing difficult, so JAX doesn't allow it.\n",
        "\n",
        "**The solution**:\n",
        "- Most of the time, you don't need such assignement, and can rewrite this in other ways\n",
        "- If you really need to, you can use **functional** API tools like [index_update](https://jax.readthedocs.io/en/latest/_autosummary/jax.ops.index_update.html#jax.ops.index_update)"
      ]
    },
    {
      "cell_type": "code",
      "metadata": {
        "colab": {
          "base_uri": "https://localhost:8080/"
        },
        "id": "cziGl5JhI-A5",
        "outputId": "2431ce59-ccfc-40d8-e915-8bf630cecc33"
      },
      "source": [
        "myarray = np.arange(10)\n",
        "print(\"Input     \", myarray)\n",
        "\n",
        "# Solution 1: We might want to set a value to zero because it's masked\n",
        "# in such a case, we can simply multiply the input array by a mask\n",
        "mask = np.where(myarray == 5,0,1) \n",
        "myarray1 = mask * myarray\n",
        "print(\"Solution 1\", myarray1)\n",
        "\n",
        "# Solution 2: If really you need to update, you can use jax.ops.index_update\n",
        "myarray2 = jax.ops.index_update(myarray, 5, 0.)\n",
        "print(\"Solution 2\", myarray2)"
      ],
      "execution_count": null,
      "outputs": [
        {
          "output_type": "stream",
          "text": [
            "Input      [0 1 2 3 4 5 6 7 8 9]\n",
            "Solution 1 [0 1 2 3 4 0 6 7 8 9]\n",
            "Solution 2 [0 1 2 3 4 0 6 7 8 9]\n"
          ],
          "name": "stdout"
        }
      ]
    },
    {
      "cell_type": "markdown",
      "metadata": {
        "id": "aVlmHGXJh4cU"
      },
      "source": [
        "## Autodiff showdown\n",
        "\n",
        "Here are a few cool examples of autodiff to compare against Julia.\n",
        "\n",
        "#### You can differentiate with respect to objects!\n",
        "\n",
        "This is not possible in TensorFlow for instance. So imagine this:"
      ]
    },
    {
      "cell_type": "code",
      "metadata": {
        "id": "57HUC-KaiOIN"
      },
      "source": [
        "def myfunc(cosmo):\n",
        "  return 2* cosmo[\"sigma8\"]**2 + 1"
      ],
      "execution_count": null,
      "outputs": []
    },
    {
      "cell_type": "code",
      "metadata": {
        "id": "n2bgzNj8iOAN"
      },
      "source": [
        "cosmo = {\"sigma8\": 0.8, \"omega_m\":0.3}"
      ],
      "execution_count": null,
      "outputs": []
    },
    {
      "cell_type": "code",
      "metadata": {
        "colab": {
          "base_uri": "https://localhost:8080/"
        },
        "id": "72acWWFWiN96",
        "outputId": "48322c9f-d8c7-40eb-8a68-bbdc4e1d83a0"
      },
      "source": [
        "jax.grad(myfunc)(cosmo)"
      ],
      "execution_count": null,
      "outputs": [
        {
          "output_type": "execute_result",
          "data": {
            "text/plain": [
              "{'omega_m': array(0., dtype=float32),\n",
              " 'sigma8': DeviceArray(3.2, dtype=float32)}"
            ]
          },
          "metadata": {
            "tags": []
          },
          "execution_count": 227
        }
      ]
    },
    {
      "cell_type": "markdown",
      "metadata": {
        "id": "DB5jfUdKivac"
      },
      "source": [
        "In this case this is a simple dictionary, but you can register your own objects\n",
        "so that they can be recognized by JAX's autodiff. See [here](https://jax.readthedocs.io/en/latest/pytrees.html)\n",
        "\n",
        "In jax-cosmo, you can take derivatives with respect to `objects` like redshift distributions, and cosmology :-)  "
      ]
    },
    {
      "cell_type": "markdown",
      "metadata": {
        "id": "sGZTDIlK4L-L"
      },
      "source": [
        "## Examples of useful implementations\n",
        "\n",
        "\n",
        "### End-to-End Limber Integration Example\n",
        "\n",
        "One of the most frequent things we need to do usually is evaluating an integral over a power spectrum."
      ]
    },
    {
      "cell_type": "code",
      "metadata": {
        "id": "B_CCRulU4ieW"
      },
      "source": [
        "def simps(f, a, b, N=128):\n",
        "  \"\"\" Simple Simspon's integration \n",
        "  Args:\n",
        "    f: vectorized function providing the integrand\n",
        "    a,b: float, interval of integraions\n",
        "    N: integer, number of points to evaluate the integrand \n",
        "  \"\"\"\n",
        "  if N % 2 == 1:\n",
        "      raise ValueError(\"N must be an even integer.\")\n",
        "  dx = (b - a) / N                # Step between points \n",
        "  x = np.linspace(a, b, N + 1)    # Grid for the evaluation of integrand\n",
        "  y = f(x)                        # Evaluate the integrand on appropriate grid\n",
        "  return dx / 3 * np.sum(y[0:-1:2] + 4 * y[1::2] + y[2::2], axis=0) # Simpson's rule"
      ],
      "execution_count": null,
      "outputs": []
    },
    {
      "cell_type": "code",
      "metadata": {
        "id": "LiHNL5-PhrLK"
      },
      "source": [
        "pip install --quiet jax-cosmo"
      ],
      "execution_count": null,
      "outputs": []
    },
    {
      "cell_type": "markdown",
      "metadata": {
        "id": "mrX1UobDhuEJ"
      },
      "source": [
        "Let's try to use it to implement a limber integration:"
      ]
    },
    {
      "cell_type": "code",
      "metadata": {
        "id": "6yiDKa416OoF"
      },
      "source": [
        "import jax_cosmo as jc\n",
        "cosmo = jc.Planck15()                  # Create a cosmology with default parameters\n",
        "nz = jc.redshift.smail_nz(1., 2.,  1.) # Create a Smail redshift distribution\n",
        "tracer = jc.probes.WeakLensing([nz])   # Define a lensing probe"
      ],
      "execution_count": null,
      "outputs": []
    },
    {
      "cell_type": "code",
      "metadata": {
        "id": "qOb3F4vp6MFd"
      },
      "source": [
        "def angular_cl(cosmo, tracer, ell, integration_fn=simps):\n",
        "\n",
        "  @jax.vmap\n",
        "  def limber(ell):\n",
        "    \"\"\" Function that will perform a limber integration at a single ell\n",
        "    \"\"\"\n",
        "    def integrand(a):\n",
        "      # Step 1: retrieve the associated comoving distance, clip to avoid stupid values\n",
        "      chi = np.clip(jc.background.radial_comoving_distance(cosmo, a), 1e-2)\n",
        "      \n",
        "      # Step 2: get the power spectrum for this combination of chi and a\n",
        "      pk = jc.power.nonlinear_matter_power(cosmo, k = (ell + 0.5) / chi, a = a) \n",
        "\n",
        "      # Step 3: retrieve the kernel\n",
        "      kernel = tracer.kernel(cosmo, jc.utils.a2z(a), ell)\n",
        "\n",
        "      # Step 4: computing the integrand\n",
        "      return  pk * kernel**2 * jc.background.dchioverda(cosmo, a) / chi\n",
        "\n",
        "    return integration_fn(integrand, jc.utils.z2a(tracer.zmax), 1.0) / jc.constants.c**2\n",
        "\n",
        "  # Now, evaluate the Limber integral for an array of ell\n",
        "  return limber(ell)"
      ],
      "execution_count": null,
      "outputs": []
    },
    {
      "cell_type": "markdown",
      "metadata": {
        "id": "RaPnQHlsB5qr"
      },
      "source": [
        "And that's it folks"
      ]
    },
    {
      "cell_type": "code",
      "metadata": {
        "colab": {
          "base_uri": "https://localhost:8080/"
        },
        "id": "OtDkOURmAo_t",
        "outputId": "013c1b01-77dd-461d-dec6-f3bccc4602d4"
      },
      "source": [
        "ell = np.logspace(1,3)\n",
        "cls = angular_cl(cosmo, tracer, ell)"
      ],
      "execution_count": null,
      "outputs": [
        {
          "output_type": "stream",
          "text": [
            "/usr/local/lib/python3.7/dist-packages/jax/_src/numpy/lax_numpy.py:5792: UserWarning: Explicitly requested dtype <class 'jax._src.numpy.lax_numpy.int64'> requested in astype is not available, and will be truncated to dtype int32. To enable more dtypes, set the jax_enable_x64 configuration option or the JAX_ENABLE_X64 shell environment variable. See https://github.com/google/jax#current-gotchas for more.\n",
            "  lax._check_user_dtype_supported(dtype, \"astype\")\n"
          ],
          "name": "stderr"
        }
      ]
    },
    {
      "cell_type": "code",
      "metadata": {
        "colab": {
          "base_uri": "https://localhost:8080/",
          "height": 286
        },
        "id": "hC4S6LsvAo5n",
        "outputId": "e0e43a0e-6564-4d3e-fb0d-04ff88232e33"
      },
      "source": [
        "loglog(ell, cls)"
      ],
      "execution_count": null,
      "outputs": [
        {
          "output_type": "execute_result",
          "data": {
            "text/plain": [
              "[<matplotlib.lines.Line2D at 0x7f497fb973d0>]"
            ]
          },
          "metadata": {
            "tags": []
          },
          "execution_count": 40
        },
        {
          "output_type": "display_data",
          "data": {
            "image/png": "[encoded data removed]",
            "text/plain": [
              "<Figure size 432x288 with 1 Axes>"
            ]
          },
          "metadata": {
            "tags": [],
            "needs_background": "light"
          }
        }
      ]
    },
    {
      "cell_type": "code",
      "metadata": {
        "id": "VsAlueJBAoxs"
      },
      "source": [
        "# We can also jit it\n",
        "jitted_angular_cl = jax.jit(angular_cl)"
      ],
      "execution_count": null,
      "outputs": []
    },
    {
      "cell_type": "code",
      "metadata": {
        "colab": {
          "base_uri": "https://localhost:8080/"
        },
        "id": "R_gaLYBo-Qai",
        "outputId": "c72263cf-391e-478f-ef76-3a8c173f478b"
      },
      "source": [
        "jitted_angular_cl(cosmo, tracer, ell)"
      ],
      "execution_count": null,
      "outputs": [
        {
          "output_type": "stream",
          "text": [
            "/usr/local/lib/python3.7/dist-packages/jax/_src/numpy/lax_numpy.py:5792: UserWarning: Explicitly requested dtype <class 'jax._src.numpy.lax_numpy.int64'> requested in astype is not available, and will be truncated to dtype int32. To enable more dtypes, set the jax_enable_x64 configuration option or the JAX_ENABLE_X64 shell environment variable. See https://github.com/google/jax#current-gotchas for more.\n",
            "  lax._check_user_dtype_supported(dtype, \"astype\")\n"
          ],
          "name": "stderr"
        },
        {
          "output_type": "execute_result",
          "data": {
            "text/plain": [
              "DeviceArray([1.8582112e-05, 1.8764178e-05, 1.8851024e-05, 1.8837498e-05,\n",
              "             1.8721008e-05, 1.8500676e-05, 1.8177325e-05, 1.7754815e-05,\n",
              "             1.7237015e-05, 1.6630554e-05, 1.5947380e-05, 1.5198700e-05,\n",
              "             1.4396513e-05, 1.3556604e-05, 1.2694548e-05, 1.1824462e-05,\n",
              "             1.0960339e-05, 1.0115136e-05, 9.2975542e-06, 8.5157053e-06,\n",
              "             7.7733575e-06, 7.0725505e-06, 6.4134692e-06, 5.7946331e-06,\n",
              "             5.2147511e-06, 4.6724567e-06, 4.1674493e-06, 3.7001269e-06,\n",
              "             3.2714006e-06, 2.8824413e-06, 2.5335419e-06, 2.2239365e-06,\n",
              "             1.9514050e-06, 1.7126333e-06, 1.5037756e-06, 1.3211016e-06,\n",
              "             1.1614500e-06, 1.0222160e-06, 9.0112985e-07, 7.9600858e-07,\n",
              "             7.0471128e-07, 6.2526914e-07, 5.5597133e-07, 4.9536555e-07,\n",
              "             4.4218501e-07, 3.9533080e-07, 3.5386662e-07, 3.1700597e-07,\n",
              "             2.8409059e-07, 2.5457311e-07], dtype=float32)"
            ]
          },
          "metadata": {
            "tags": []
          },
          "execution_count": 42
        }
      ]
    },
    {
      "cell_type": "markdown",
      "metadata": {
        "id": "N9m-0UE56WDY"
      },
      "source": [
        "### Solving ODEs\n",
        "\n",
        "\n",
        "Sorry running out of time for this, but have a look  at how this is done [here](https://github.com/DifferentiableUniverseInitiative/jax_cosmo/blob/c2f8b59214df70d820bbad53f6a7b1ab2280638a/jax_cosmo/background.py#L471) "
      ]
    },
    {
      "cell_type": "markdown",
      "metadata": {
        "id": "0JoAXneDz3QF"
      },
      "source": [
        "## Conclusion\n",
        "\n",
        "This is only the very tip of the iceberg!\n",
        "\n",
        "Here are a few pointers to exciting things in JAX:\n",
        "- [flax](https://github.com/google/flax) : Neural Network library\n",
        "- [morphine](https://github.com/benjaminpope/morphine) : Super cool example of a project which has transitioned from numpy to jax, for the purpose of PSF modeling\n",
        "\n"
      ]
    },
    {
      "cell_type": "code",
      "metadata": {
        "id": "dc6wDrY8jr3n"
      },
      "source": [
        ""
      ],
      "execution_count": null,
      "outputs": []
    }
  ]
}