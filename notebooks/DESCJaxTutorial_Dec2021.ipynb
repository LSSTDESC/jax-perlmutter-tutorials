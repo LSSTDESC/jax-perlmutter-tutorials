{
  "nbformat": 4,
  "nbformat_minor": 0,
  "metadata": {
    "colab": {
      "name": "DESCJaxTutorial_Dec2021.ipynb",
      "provenance": [],
      "collapsed_sections": [],
      "authorship_tag": "ABX9TyNTx0og6b9wCke3gNa3412P",
      "include_colab_link": true
    },
    "kernelspec": {
      "name": "python3",
      "display_name": "Python 3"
    },
    "language_info": {
      "name": "python"
    },
    "accelerator": "GPU"
  },
  "cells": [
    {
      "cell_type": "markdown",
      "metadata": {
        "id": "view-in-github",
        "colab_type": "text"
      },
      "source": [
        "<a href=\"https://colab.research.google.com/github/LSSTDESC/jax-perlmutter-tutorials/blob/main/notebooks/DESCJaxTutorial_Dec2021.ipynb\" target=\"_parent\"><img src=\"https://colab.research.google.com/assets/colab-badge.svg\" alt=\"Open In Colab\"/></a>"
      ]
    },
    {
      "cell_type": "markdown",
      "metadata": {
        "id": "KLp2z7Vg0tBN"
      },
      "source": [
        "# DESC DC2 Telecon: Practical introduction to JAX\n",
        "\n",
        "Author:\n",
        "- [@EiffL](https://github.com/EiffL)(Francois Lanusse)\n",
        "\n",
        "## Overview\n",
        "\n",
        "The goal of this tutorial is to cover some of the essential JAX mechanisms, and\n",
        "put them into practice for typical computations that may be required for a project like CCL.\n",
        "\n",
        "**Learning objectives**:\n",
        "- Summary of JAX features\n",
        "- Implement integrations in JAX for things like CCL\n",
        "- Implement image fitting in JAX for things like shape measurement\n",
        "- Run an MCMC in batched parallel\n",
        "\n",
        "\n",
        "## Previous DESC tutorials on JAX\n",
        "\n",
        "We have already had a few sessions on JAX within DESC:\n",
        "\n",
        "- [JAX for a cosmology library](https://slides.com/eiffl/jax-cosmo): A presentation on why jax is so nice for generic purpose coding\n",
        "- [Intro to JAX tutorial](https://colab.research.google.com/drive/1kXElYNy7g3KFrkmn2iT4paL8kl66Bfyc?usp=sharing): A Colab tutorial covering all the JAX basics and some of the things which might surprise you\n",
        "\n"
      ]
    },
    {
      "cell_type": "markdown",
      "metadata": {
        "id": "SjztUt0caKpY"
      },
      "source": [
        "## A few words about JAX\n",
        "\n",
        "What's the best Deep Learning and autodiff framework? TensorFlow? PyTorch? Wrong: all you ever want is JAX :-)\n",
        "\n",
        "\n",
        "![](https://raw.githubusercontent.com/google/jax/main/images/jax_logo_250px.png)\n",
        "\n",
        "JAX = NumPy + autograd + XLA\n",
        "\n",
        "In other words, it looks like pure NumPy, but is automatically differentiable, and runs on XLA (i.e. GPU accelerated). Checkout the [full documentation](https://jax.readthedocs.io/en/latest/index.html) to discover the many awesome features JAX has to offer.\n",
        "\n",
        "A few [slides about that](https://slides.com/eiffl/jax-cosmo#/4).\n",
        "\n",
        "\n",
        "#### Autodiff\n",
        "\n",
        "For our purposes, the most interesting feature of JAX will be automatic differentiation, which is performed using `jax.grad`\n",
        "\n",
        "\n"
      ]
    },
    {
      "cell_type": "code",
      "metadata": {
        "colab": {
          "base_uri": "https://localhost:8080/"
        },
        "id": "EEZaUxY8cAjH",
        "outputId": "bae9e9a9-6189-417c-b0d7-dc6c0adfdb1a"
      },
      "source": [
        "!pip install --quiet jax-cosmo"
      ],
      "execution_count": null,
      "outputs": [
        {
          "output_type": "stream",
          "name": "stdout",
          "text": [
            "\u001b[?25l\r\u001b[K     |█▏                              | 10 kB 35.3 MB/s eta 0:00:01\r\u001b[K     |██▎                             | 20 kB 40.8 MB/s eta 0:00:01\r\u001b[K     |███▌                            | 30 kB 44.0 MB/s eta 0:00:01\r\u001b[K     |████▋                           | 40 kB 26.7 MB/s eta 0:00:01\r\u001b[K     |█████▉                          | 51 kB 16.6 MB/s eta 0:00:01\r\u001b[K     |███████                         | 61 kB 14.2 MB/s eta 0:00:01\r\u001b[K     |████████                        | 71 kB 13.5 MB/s eta 0:00:01\r\u001b[K     |█████████▎                      | 81 kB 14.8 MB/s eta 0:00:01\r\u001b[K     |██████████▍                     | 92 kB 13.8 MB/s eta 0:00:01\r\u001b[K     |███████████▋                    | 102 kB 12.8 MB/s eta 0:00:01\r\u001b[K     |████████████▊                   | 112 kB 12.8 MB/s eta 0:00:01\r\u001b[K     |██████████████                  | 122 kB 12.8 MB/s eta 0:00:01\r\u001b[K     |███████████████                 | 133 kB 12.8 MB/s eta 0:00:01\r\u001b[K     |████████████████▏               | 143 kB 12.8 MB/s eta 0:00:01\r\u001b[K     |█████████████████▍              | 153 kB 12.8 MB/s eta 0:00:01\r\u001b[K     |██████████████████▌             | 163 kB 12.8 MB/s eta 0:00:01\r\u001b[K     |███████████████████▊            | 174 kB 12.8 MB/s eta 0:00:01\r\u001b[K     |████████████████████▉           | 184 kB 12.8 MB/s eta 0:00:01\r\u001b[K     |██████████████████████          | 194 kB 12.8 MB/s eta 0:00:01\r\u001b[K     |███████████████████████▏        | 204 kB 12.8 MB/s eta 0:00:01\r\u001b[K     |████████████████████████▎       | 215 kB 12.8 MB/s eta 0:00:01\r\u001b[K     |█████████████████████████▌      | 225 kB 12.8 MB/s eta 0:00:01\r\u001b[K     |██████████████████████████▋     | 235 kB 12.8 MB/s eta 0:00:01\r\u001b[K     |███████████████████████████▉    | 245 kB 12.8 MB/s eta 0:00:01\r\u001b[K     |█████████████████████████████   | 256 kB 12.8 MB/s eta 0:00:01\r\u001b[K     |██████████████████████████████▏ | 266 kB 12.8 MB/s eta 0:00:01\r\u001b[K     |███████████████████████████████▎| 276 kB 12.8 MB/s eta 0:00:01\r\u001b[K     |████████████████████████████████| 282 kB 12.8 MB/s \n",
            "\u001b[?25h  Building wheel for jax-cosmo (setup.py) ... \u001b[?25l\u001b[?25hdone\n"
          ]
        }
      ]
    },
    {
      "cell_type": "code",
      "metadata": {
        "colab": {
          "base_uri": "https://localhost:8080/"
        },
        "id": "Zqm6U_bpaKal",
        "outputId": "19abf20c-f51c-4192-e6d3-f3aa9d394863"
      },
      "source": [
        "%pylab inline\n",
        "import jax\n",
        "import jax.numpy as jnp"
      ],
      "execution_count": null,
      "outputs": [
        {
          "output_type": "stream",
          "name": "stdout",
          "text": [
            "Populating the interactive namespace from numpy and matplotlib\n"
          ]
        },
        {
          "output_type": "stream",
          "name": "stderr",
          "text": [
            "/usr/local/lib/python3.7/dist-packages/IPython/core/magics/pylab.py:161: UserWarning: pylab import has clobbered these variables: ['cov', 'f']\n",
            "`%matplotlib` prevents importing * from pylab and numpy\n",
            "  \"\\n`%matplotlib` prevents importing * from pylab and numpy\"\n"
          ]
        }
      ]
    },
    {
      "cell_type": "code",
      "metadata": {
        "id": "zIp76CAKaG5G"
      },
      "source": [
        "# Let's build a function of x that returns a scalar\n",
        "def f(x):\n",
        "    y = 2*x+1\n",
        "    return y"
      ],
      "execution_count": null,
      "outputs": []
    },
    {
      "cell_type": "code",
      "metadata": {
        "id": "7Dl_eMyUalPS"
      },
      "source": [
        "# To get the derivative of this function, I simply use jax.grad\n",
        "df_dx = jax.grad(f)"
      ],
      "execution_count": null,
      "outputs": []
    },
    {
      "cell_type": "code",
      "metadata": {
        "colab": {
          "base_uri": "https://localhost:8080/"
        },
        "id": "EH2gdtQcalLp",
        "outputId": "84ad92f7-6dbd-466e-fcec-e5d7ef78fda4"
      },
      "source": [
        "df_dx"
      ],
      "execution_count": null,
      "outputs": [
        {
          "output_type": "execute_result",
          "data": {
            "text/plain": [
              "<function __main__.f>"
            ]
          },
          "metadata": {},
          "execution_count": 127
        }
      ]
    },
    {
      "cell_type": "markdown",
      "metadata": {
        "id": "y3b7PKeJapeH"
      },
      "source": [
        "`jax.grad` has *transformed* my function `f` into a new function that comptutes its gradient."
      ]
    },
    {
      "cell_type": "code",
      "metadata": {
        "colab": {
          "base_uri": "https://localhost:8080/",
          "height": 282
        },
        "id": "huyq8HWNalJ6",
        "outputId": "5e88167d-e838-4727-951a-783a3f0fbb40"
      },
      "source": [
        "u = jnp.linspace(0,1)\n",
        "plot(u, f(u), label='f')\n",
        "plot(u,jax.vmap(df_dx)(u), label='df/dx')\n",
        "legend()"
      ],
      "execution_count": null,
      "outputs": [
        {
          "output_type": "execute_result",
          "data": {
            "text/plain": [
              "<matplotlib.legend.Legend at 0x7f58924fa890>"
            ]
          },
          "metadata": {},
          "execution_count": 128
        },
        {
          "output_type": "display_data",
          "data": {
            "image/png": "[encoded data removed]",
            "text/plain": [
              "<Figure size 432x288 with 1 Axes>"
            ]
          },
          "metadata": {
            "needs_background": "light"
          }
        }
      ]
    },
    {
      "cell_type": "markdown",
      "metadata": {
        "id": "lf0QQGYqatDd"
      },
      "source": [
        "#### Vectorization with `vmap`\n",
        "\n",
        "Another awesome feature of JAX is the ability to batch any function using the `jax.vmap` transformation. Say you have a function that works on a single example:"
      ]
    },
    {
      "cell_type": "code",
      "metadata": {
        "id": "YN28FQRxalEU"
      },
      "source": [
        "def f(x):\n",
        "    # Expect x to be of shape [16, 16]\n",
        "    nx, ny = x.shape \n",
        "    x = x + jnp.ones([nx,ny])\n",
        "    return x"
      ],
      "execution_count": null,
      "outputs": []
    },
    {
      "cell_type": "code",
      "metadata": {
        "colab": {
          "base_uri": "https://localhost:8080/"
        },
        "id": "fVtbJqCqalBO",
        "outputId": "ab18c634-1cf8-4e32-f33d-9dd587a37b89"
      },
      "source": [
        "x = jnp.zeros([16,16])\n",
        "f(x).shape"
      ],
      "execution_count": null,
      "outputs": [
        {
          "output_type": "execute_result",
          "data": {
            "text/plain": [
              "(16, 16)"
            ]
          },
          "metadata": {},
          "execution_count": 131
        }
      ]
    },
    {
      "cell_type": "code",
      "metadata": {
        "colab": {
          "base_uri": "https://localhost:8080/",
          "height": 322
        },
        "id": "3e6MEnRMazqd",
        "outputId": "2699307c-8e74-4ba4-cd77-bbfd5635c640"
      },
      "source": [
        "# But this function wouldn't work if I had a batch of images\n",
        "x = jnp.zeros([1,16,16])\n",
        "f(x).shape # THIS SHOULD FAIL"
      ],
      "execution_count": null,
      "outputs": [
        {
          "output_type": "error",
          "ename": "ValueError",
          "evalue": "ignored",
          "traceback": [
            "\u001b[0;31m---------------------------------------------------------------------------\u001b[0m",
            "\u001b[0;31mValueError\u001b[0m                                Traceback (most recent call last)",
            "\u001b[0;32m<ipython-input-132-aa3f5aa3b824>\u001b[0m in \u001b[0;36m<module>\u001b[0;34m()\u001b[0m\n\u001b[1;32m      1\u001b[0m \u001b[0;31m# But this function wouldn't work if I had a batch of images\u001b[0m\u001b[0;34m\u001b[0m\u001b[0;34m\u001b[0m\u001b[0;34m\u001b[0m\u001b[0m\n\u001b[1;32m      2\u001b[0m \u001b[0mx\u001b[0m \u001b[0;34m=\u001b[0m \u001b[0mjnp\u001b[0m\u001b[0;34m.\u001b[0m\u001b[0mzeros\u001b[0m\u001b[0;34m(\u001b[0m\u001b[0;34m[\u001b[0m\u001b[0;36m1\u001b[0m\u001b[0;34m,\u001b[0m\u001b[0;36m16\u001b[0m\u001b[0;34m,\u001b[0m\u001b[0;36m16\u001b[0m\u001b[0;34m]\u001b[0m\u001b[0;34m)\u001b[0m\u001b[0;34m\u001b[0m\u001b[0;34m\u001b[0m\u001b[0m\n\u001b[0;32m----> 3\u001b[0;31m \u001b[0mf\u001b[0m\u001b[0;34m(\u001b[0m\u001b[0mx\u001b[0m\u001b[0;34m)\u001b[0m\u001b[0;34m.\u001b[0m\u001b[0mshape\u001b[0m \u001b[0;31m# THIS SHOULD FAIL\u001b[0m\u001b[0;34m\u001b[0m\u001b[0;34m\u001b[0m\u001b[0m\n\u001b[0m",
            "\u001b[0;32m<ipython-input-130-2a667166e2fd>\u001b[0m in \u001b[0;36mf\u001b[0;34m(x)\u001b[0m\n\u001b[1;32m      1\u001b[0m \u001b[0;32mdef\u001b[0m \u001b[0mf\u001b[0m\u001b[0;34m(\u001b[0m\u001b[0mx\u001b[0m\u001b[0;34m)\u001b[0m\u001b[0;34m:\u001b[0m\u001b[0;34m\u001b[0m\u001b[0;34m\u001b[0m\u001b[0m\n\u001b[1;32m      2\u001b[0m     \u001b[0;31m# Expect x to be of shape [16, 16]\u001b[0m\u001b[0;34m\u001b[0m\u001b[0;34m\u001b[0m\u001b[0;34m\u001b[0m\u001b[0m\n\u001b[0;32m----> 3\u001b[0;31m     \u001b[0mnx\u001b[0m\u001b[0;34m,\u001b[0m \u001b[0mny\u001b[0m \u001b[0;34m=\u001b[0m \u001b[0mx\u001b[0m\u001b[0;34m.\u001b[0m\u001b[0mshape\u001b[0m\u001b[0;34m\u001b[0m\u001b[0;34m\u001b[0m\u001b[0m\n\u001b[0m\u001b[1;32m      4\u001b[0m     \u001b[0mx\u001b[0m \u001b[0;34m=\u001b[0m \u001b[0mx\u001b[0m \u001b[0;34m+\u001b[0m \u001b[0mjnp\u001b[0m\u001b[0;34m.\u001b[0m\u001b[0mones\u001b[0m\u001b[0;34m(\u001b[0m\u001b[0;34m[\u001b[0m\u001b[0mnx\u001b[0m\u001b[0;34m,\u001b[0m\u001b[0mny\u001b[0m\u001b[0;34m]\u001b[0m\u001b[0;34m)\u001b[0m\u001b[0;34m\u001b[0m\u001b[0;34m\u001b[0m\u001b[0m\n\u001b[1;32m      5\u001b[0m     \u001b[0;32mreturn\u001b[0m \u001b[0mx\u001b[0m\u001b[0;34m\u001b[0m\u001b[0;34m\u001b[0m\u001b[0m\n",
            "\u001b[0;31mValueError\u001b[0m: too many values to unpack (expected 2)"
          ]
        }
      ]
    },
    {
      "cell_type": "code",
      "metadata": {
        "colab": {
          "base_uri": "https://localhost:8080/"
        },
        "id": "4t9jQ-fqaznR",
        "outputId": "82baf958-13be-493d-83d3-db1d59c66112"
      },
      "source": [
        "# But I can use jax magic\n",
        "f_batched = jax.vmap(f)\n",
        "\n",
        "x = jnp.zeros([1,16,16])\n",
        "f_batched(x).shape"
      ],
      "execution_count": null,
      "outputs": [
        {
          "output_type": "execute_result",
          "data": {
            "text/plain": [
              "(1, 16, 16)"
            ]
          },
          "metadata": {},
          "execution_count": 133
        }
      ]
    },
    {
      "cell_type": "markdown",
      "metadata": {
        "id": "7KyRf5Faa4oM"
      },
      "source": [
        "Tada! \n",
        "\n",
        "#### JIT compilation\n",
        "\n",
        "The final super useful thing to know about JAX is that you can JIT (Just In Time) compile any function, they will be compiled as an XLA graph and completely bypass Python to run directly under XLA."
      ]
    },
    {
      "cell_type": "code",
      "metadata": {
        "id": "0P7C6V_uazkF"
      },
      "source": [
        "def f(x, A):\n",
        "    return A.dot(x)\n",
        "\n",
        "f_jitted = jax.jit(f)"
      ],
      "execution_count": null,
      "outputs": []
    },
    {
      "cell_type": "code",
      "metadata": {
        "id": "PAYvGFsrazgv"
      },
      "source": [
        "x = randn(128)\n",
        "A = randn(128,128)"
      ],
      "execution_count": null,
      "outputs": []
    },
    {
      "cell_type": "code",
      "metadata": {
        "id": "5Hy7g7gnak90"
      },
      "source": [
        "f_jitted(x,A);"
      ],
      "execution_count": null,
      "outputs": []
    },
    {
      "cell_type": "markdown",
      "metadata": {
        "id": "1YddiTxtbCA8"
      },
      "source": [
        "On this example, jitting won't make much of a difference because it is  a tiny function, but we will see later that we can JIT the computation of the loss and update of a full neural network, which then becomes lightning fast."
      ]
    },
    {
      "cell_type": "markdown",
      "metadata": {
        "id": "aVlmHGXJh4cU"
      },
      "source": [
        "## Autodiff showdown\n",
        "\n",
        "Here are a few cool examples of autodiff to compare against Julia.\n",
        "\n",
        "#### You can differentiate with respect to objects!\n",
        "\n",
        "This is not possible in TensorFlow for instance. So imagine this:"
      ]
    },
    {
      "cell_type": "code",
      "metadata": {
        "id": "57HUC-KaiOIN"
      },
      "source": [
        "def myfunc(cosmo):\n",
        "  return 2* cosmo[\"sigma8\"]**2 + 1"
      ],
      "execution_count": null,
      "outputs": []
    },
    {
      "cell_type": "code",
      "metadata": {
        "id": "n2bgzNj8iOAN"
      },
      "source": [
        "cosmo = {\"sigma8\": 0.8, \"omega_m\":0.3}"
      ],
      "execution_count": null,
      "outputs": []
    },
    {
      "cell_type": "code",
      "metadata": {
        "colab": {
          "base_uri": "https://localhost:8080/"
        },
        "id": "72acWWFWiN96",
        "outputId": "5928d033-0d65-410a-e45b-304068972783"
      },
      "source": [
        "jax.grad(myfunc)(cosmo)"
      ],
      "execution_count": null,
      "outputs": [
        {
          "output_type": "execute_result",
          "data": {
            "text/plain": [
              "{'omega_m': DeviceArray(0., dtype=float32),\n",
              " 'sigma8': DeviceArray(3.2, dtype=float32)}"
            ]
          },
          "metadata": {},
          "execution_count": 141
        }
      ]
    },
    {
      "cell_type": "markdown",
      "metadata": {
        "id": "DB5jfUdKivac"
      },
      "source": [
        "In this case this is a simple dictionary, but you can register your own objects\n",
        "so that they can be recognized by JAX's autodiff. See [here](https://jax.readthedocs.io/en/latest/pytrees.html)\n",
        "\n",
        "In jax-cosmo, you can take derivatives with respect to `objects` like redshift distributions, and cosmology :-)  "
      ]
    },
    {
      "cell_type": "markdown",
      "metadata": {
        "id": "iDKKAIEibsS9"
      },
      "source": [
        "## Example of application: Cosmological computations and inference"
      ]
    },
    {
      "cell_type": "markdown",
      "metadata": {
        "id": "sGZTDIlK4L-L"
      },
      "source": [
        "### End-to-End Limber Integration Example\n",
        "\n",
        "One of the most frequent things we need to do usually is evaluating an integral over a power spectrum."
      ]
    },
    {
      "cell_type": "code",
      "metadata": {
        "id": "B_CCRulU4ieW"
      },
      "source": [
        "def simps(f, a, b, N=128):\n",
        "  \"\"\" Simple Simspon's integration \n",
        "  Args:\n",
        "    f: vectorized function providing the integrand\n",
        "    a,b: float, interval of integraions\n",
        "    N: integer, number of points to evaluate the integrand \n",
        "  \"\"\"\n",
        "  if N % 2 == 1:\n",
        "      raise ValueError(\"N must be an even integer.\")\n",
        "  dx = (b - a) / N                # Step between points \n",
        "  x = jnp.linspace(a, b, N + 1)    # Grid for the evaluation of integrand\n",
        "  y = f(x)                        # Evaluate the integrand on appropriate grid\n",
        "  return dx / 3 * jnp.sum(y[0:-1:2] + 4 * y[1::2] + y[2::2], axis=0) # Simpson's rule"
      ],
      "execution_count": null,
      "outputs": []
    },
    {
      "cell_type": "markdown",
      "metadata": {
        "id": "mrX1UobDhuEJ"
      },
      "source": [
        "Let's try to use it to implement a limber integration:"
      ]
    },
    {
      "cell_type": "code",
      "metadata": {
        "id": "6yiDKa416OoF"
      },
      "source": [
        "import jax_cosmo as jc\n",
        "cosmo = jc.Planck15()                  # Create a cosmology with default parameters\n",
        "nz = jc.redshift.smail_nz(1., 2.,  1.) # Create a Smail redshift distribution\n",
        "tracer = jc.probes.WeakLensing([nz])   # Define a lensing probe"
      ],
      "execution_count": null,
      "outputs": []
    },
    {
      "cell_type": "code",
      "metadata": {
        "id": "qOb3F4vp6MFd"
      },
      "source": [
        "def angular_cl(cosmo, tracer, ell, integration_fn=simps):\n",
        "\n",
        "  @jax.vmap\n",
        "  def limber(ell):\n",
        "    \"\"\" Function that will perform a limber integration at a single ell\n",
        "    \"\"\"\n",
        "    @jax.vmap\n",
        "    def integrand(a):\n",
        "      # Step 1: retrieve the associated comoving distance, clip to avoid stupid values\n",
        "      chi = jnp.clip(jc.background.radial_comoving_distance(cosmo, a), 1e-2)\n",
        "      \n",
        "      # Step 2: get the power spectrum for this combination of chi and a\n",
        "      pk = jc.power.nonlinear_matter_power(cosmo, k = (ell + 0.5) / chi, a = a) \n",
        "\n",
        "      # Step 3: retrieve the kernel\n",
        "      kernel = tracer.kernel(cosmo, jc.utils.a2z(a), ell)\n",
        "\n",
        "      # Step 4: computing the integrand\n",
        "      return  pk * kernel**2 * jc.background.dchioverda(cosmo, a) / chi\n",
        "\n",
        "    return integration_fn(integrand, jc.utils.z2a(tracer.zmax), 1.0) / jc.constants.c**2\n",
        "\n",
        "  # Now, evaluate the Limber integral for an array of ell\n",
        "  return limber(ell)"
      ],
      "execution_count": null,
      "outputs": []
    },
    {
      "cell_type": "markdown",
      "metadata": {
        "id": "RaPnQHlsB5qr"
      },
      "source": [
        "And that's it folks"
      ]
    },
    {
      "cell_type": "code",
      "metadata": {
        "colab": {
          "base_uri": "https://localhost:8080/"
        },
        "id": "OtDkOURmAo_t",
        "outputId": "0ce89b29-6684-4bf8-8785-9e5871ebf6fb"
      },
      "source": [
        "ell = np.logspace(1,3)\n",
        "cls = angular_cl(cosmo, tracer, ell)"
      ],
      "execution_count": null,
      "outputs": [
        {
          "output_type": "stream",
          "name": "stderr",
          "text": [
            "/usr/local/lib/python3.7/dist-packages/jax/_src/numpy/lax_numpy.py:6493: UserWarning: Explicitly requested dtype <class 'jax._src.numpy.lax_numpy.int64'> requested in astype is not available, and will be truncated to dtype int32. To enable more dtypes, set the jax_enable_x64 configuration option or the JAX_ENABLE_X64 shell environment variable. See https://github.com/google/jax#current-gotchas for more.\n",
            "  lax._check_user_dtype_supported(dtype, \"astype\")\n"
          ]
        }
      ]
    },
    {
      "cell_type": "code",
      "metadata": {
        "colab": {
          "base_uri": "https://localhost:8080/",
          "height": 286
        },
        "id": "hC4S6LsvAo5n",
        "outputId": "feee2745-0080-42d8-9531-0b7b4557171a"
      },
      "source": [
        "loglog(ell, cls[:,0])"
      ],
      "execution_count": null,
      "outputs": [
        {
          "output_type": "execute_result",
          "data": {
            "text/plain": [
              "[<matplotlib.lines.Line2D at 0x7f5878296c50>]"
            ]
          },
          "metadata": {},
          "execution_count": 146
        },
        {
          "output_type": "display_data",
          "data": {
            "image/png": "[encoded data removed]",
            "text/plain": [
              "<Figure size 432x288 with 1 Axes>"
            ]
          },
          "metadata": {
            "needs_background": "light"
          }
        }
      ]
    },
    {
      "cell_type": "code",
      "metadata": {
        "id": "VsAlueJBAoxs"
      },
      "source": [
        "# We can also jit it\n",
        "jitted_angular_cl = jax.jit(angular_cl)"
      ],
      "execution_count": null,
      "outputs": []
    },
    {
      "cell_type": "code",
      "metadata": {
        "colab": {
          "base_uri": "https://localhost:8080/"
        },
        "id": "R_gaLYBo-Qai",
        "outputId": "c054e9a1-3b3b-4194-b301-7d0fe78be3b8"
      },
      "source": [
        "%timeit jitted_angular_cl(cosmo, tracer, ell)"
      ],
      "execution_count": null,
      "outputs": [
        {
          "output_type": "stream",
          "name": "stdout",
          "text": [
            "100 loops, best of 5: 8.78 ms per loop\n"
          ]
        }
      ]
    },
    {
      "cell_type": "markdown",
      "metadata": {
        "id": "iFRrkMW0en3h"
      },
      "source": [
        "### Instant Fisher Forecast\n",
        "\n",
        "Because everything written in JAX is autodiffabe, we can in particular do things like computing Fisher matrices."
      ]
    },
    {
      "cell_type": "markdown",
      "metadata": {
        "id": "_0Tdau2Tfcb5"
      },
      "source": [
        "Let's try to derive the Fisher matrix, using the usual formula for constant\n",
        "covariance:\n",
        "\n",
        "$$ F_{\\alpha, \\beta} = \\sum_{i,j} \\frac{d \\mu_i}{d \\theta_\\alpha} C^{-1}_{i,j} \\frac{d \\mu_j}{d \\theta_\\beta} $$\n",
        "\n",
        "What we need in this expression, is the covariance matrix, which we already have\n",
        "and the Jacobian of the mean with respect to parameters. Normally you would need to use finite differencing, but luckily we can get that easily with JAX:"
      ]
    },
    {
      "cell_type": "code",
      "metadata": {
        "colab": {
          "base_uri": "https://localhost:8080/"
        },
        "id": "wjTPNJFRfq-e",
        "outputId": "5d6e96fb-64a2-41af-ce36-6f5e47217818"
      },
      "source": [
        "# Let's define a fiducial cosmology\n",
        "cosmo = jc.Planck15()\n",
        "params = np.array([cosmo.Omega_c, cosmo.sigma8]) \n",
        "mu, cov = jc.angular_cl.gaussian_cl_covariance_and_mean(cosmo, ell, [tracer], sparse=True);"
      ],
      "execution_count": null,
      "outputs": [
        {
          "output_type": "stream",
          "name": "stderr",
          "text": [
            "/usr/local/lib/python3.7/dist-packages/jax/_src/numpy/lax_numpy.py:6493: UserWarning: Explicitly requested dtype <class 'jax._src.numpy.lax_numpy.int64'> requested in astype is not available, and will be truncated to dtype int32. To enable more dtypes, set the jax_enable_x64 configuration option or the JAX_ENABLE_X64 shell environment variable. See https://github.com/google/jax#current-gotchas for more.\n",
            "  lax._check_user_dtype_supported(dtype, \"astype\")\n"
          ]
        }
      ]
    },
    {
      "cell_type": "code",
      "metadata": {
        "id": "UT8q_hMLfA7R"
      },
      "source": [
        "# We define a parameter dependent function that computes the mean\n",
        "def mean_fn(p):\n",
        "  cosmo = jc.Planck15(Omega_c=p[0], sigma8=p[1])\n",
        "  # Compute signal vector\n",
        "  m = jc.angular_cl.angular_cl(cosmo, ell, [tracer])\n",
        "  return m.flatten() # We want it in 1d to operate against the covariance matrix"
      ],
      "execution_count": null,
      "outputs": []
    },
    {
      "cell_type": "code",
      "metadata": {
        "id": "fjwgqRa4fmmz"
      },
      "source": [
        "# We compute it's jacobian with JAX, and we JIT it for efficiency\n",
        "jac_mean = jax.jit(jax.jacfwd(mean_fn))"
      ],
      "execution_count": null,
      "outputs": []
    },
    {
      "cell_type": "code",
      "metadata": {
        "colab": {
          "base_uri": "https://localhost:8080/"
        },
        "id": "52YRLLprfo9J",
        "outputId": "443fc1f8-a45f-4a50-f5f0-322ddd9f11e1"
      },
      "source": [
        "# We can now evaluate the jacobian at the fiducial cosmology\n",
        "%timeit dmu = jac_mean(params)"
      ],
      "execution_count": null,
      "outputs": [
        {
          "output_type": "stream",
          "name": "stdout",
          "text": [
            "10 loops, best of 5: 19.7 ms per loop\n"
          ]
        }
      ]
    },
    {
      "cell_type": "code",
      "metadata": {
        "colab": {
          "base_uri": "https://localhost:8080/"
        },
        "id": "kcPNRR3HJu6W",
        "outputId": "db6a0269-68ac-431d-fb04-18d91809a8df"
      },
      "source": [
        "dmu.shape"
      ],
      "execution_count": null,
      "outputs": [
        {
          "output_type": "execute_result",
          "data": {
            "text/plain": [
              "(50, 2)"
            ]
          },
          "metadata": {},
          "execution_count": 159
        }
      ]
    },
    {
      "cell_type": "code",
      "metadata": {
        "colab": {
          "base_uri": "https://localhost:8080/"
        },
        "id": "bTrAB7qef_Tf",
        "outputId": "c4a975b1-66cc-4aeb-9b6a-61b825bdd852"
      },
      "source": [
        "# For fun, we can also time it\n",
        "%timeit jac_mean(params).block_until_ready()"
      ],
      "execution_count": null,
      "outputs": [
        {
          "output_type": "stream",
          "name": "stdout",
          "text": [
            "10 loops, best of 5: 22.8 ms per loop\n"
          ]
        }
      ]
    },
    {
      "cell_type": "code",
      "metadata": {
        "id": "3ILEcflBf_Ok"
      },
      "source": [
        "# Now we can compose the Fisher matrix:\n",
        "F_2 = jc.sparse.dot(dmu.T, jc.sparse.inv(cov), dmu)"
      ],
      "execution_count": null,
      "outputs": []
    },
    {
      "cell_type": "code",
      "metadata": {
        "cellView": "form",
        "id": "6C4hOVU3gYF0"
      },
      "source": [
        ""
      ],
      "execution_count": null,
      "outputs": []
    },
    {
      "cell_type": "code",
      "metadata": {
        "colab": {
          "base_uri": "https://localhost:8080/",
          "height": 284
        },
        "id": "YSm38orTf_K2",
        "outputId": "6d5a54d5-feba-4fd7-d78d-725aa88a0728"
      },
      "source": [
        "# We can now plot contours obtained with this \n",
        "plot_contours(F_2, params, fill=False, color='red', lw=4, linestyle='dashed');\n",
        "xlabel('Omega_m')\n",
        "ylabel('sigma8');"
      ],
      "execution_count": null,
      "outputs": [
        {
          "output_type": "display_data",
          "data": {
            "image/png": "[encoded data removed]",
            "text/plain": [
              "<Figure size 432x288 with 1 Axes>"
            ]
          },
          "metadata": {
            "needs_background": "light"
          }
        }
      ]
    },
    {
      "cell_type": "markdown",
      "metadata": {
        "id": "1HvJR0LFd6hV"
      },
      "source": [
        "### Batched MCMC on GPU\n",
        "\n",
        "One of the huge advantage of GPUs is that they allow for massively parallel computing. For our purposes in cosmo, it means for instance that we can run massively parallel MCMC chains with just a few GPUs.\n",
        "\n",
        "We are going to demonstrate it here with [TensorFlow Probability](https://www.tensorflow.org/probability)"
      ]
    },
    {
      "cell_type": "code",
      "metadata": {
        "id": "tuLZePIail3V"
      },
      "source": [
        "import tensorflow_probability as tfp; tfp = tfp.substrates.jax\n",
        "tfd = tfp.distributions"
      ],
      "execution_count": null,
      "outputs": []
    },
    {
      "cell_type": "markdown",
      "metadata": {
        "id": "SY-a2JFVej_z"
      },
      "source": [
        "The first thing we need is to get a log likelihood"
      ]
    },
    {
      "cell_type": "code",
      "metadata": {
        "id": "S9LuzIlKehaQ"
      },
      "source": [
        "@jax.jit\n",
        "def log_likelihood(params):\n",
        "  C = jnp.diag(jc.sparse.to_dense(cov))\n",
        "  return tfd.MultivariateNormalDiag(loc=mean_fn(params), scale_diag=jnp.sqrt(C)).log_prob(mu)"
      ],
      "execution_count": null,
      "outputs": []
    },
    {
      "cell_type": "markdown",
      "metadata": {
        "id": "iXaDsGDd3ape"
      },
      "source": [
        "And now we can use tensorflow probability to run an HMC sampler:"
      ]
    },
    {
      "cell_type": "code",
      "metadata": {
        "id": "hJdw6h4AveX_"
      },
      "source": [
        "@jax.jit\n",
        "def get_samples():\n",
        "  adaptive_hmc = tfp.mcmc.SimpleStepSizeAdaptation(\n",
        "      tfp.mcmc.HamiltonianMonteCarlo(\n",
        "          target_log_prob_fn=log_likelihood,\n",
        "          num_leapfrog_steps=3,\n",
        "          step_size=0.005),\n",
        "      num_adaptation_steps=20)\n",
        "\n",
        "  samples, is_accepted = tfp.mcmc.sample_chain(\n",
        "      num_results=200,\n",
        "      num_burnin_steps=50,\n",
        "      current_state=params+0.01,\n",
        "      kernel=adaptive_hmc,\n",
        "      trace_fn=lambda _, pkr: pkr.inner_results.is_accepted,\n",
        "      seed=jax.random.PRNGKey(0))\n",
        "  return samples, is_accepted"
      ],
      "execution_count": null,
      "outputs": []
    },
    {
      "cell_type": "code",
      "metadata": {
        "colab": {
          "base_uri": "https://localhost:8080/"
        },
        "id": "VoSnPGmV3P03",
        "outputId": "123e5635-e1dd-4a4b-827e-0d311bc076b1"
      },
      "source": [
        "samples, is_accepted = get_samples()"
      ],
      "execution_count": null,
      "outputs": [
        {
          "metadata": {
            "tags": null
          },
          "name": "stderr",
          "output_type": "stream",
          "text": [
            "/usr/local/lib/python3.7/dist-packages/jax/_src/numpy/lax_numpy.py:6493: UserWarning: Explicitly requested dtype float64 requested in astype is not available, and will be truncated to dtype float32. To enable more dtypes, set the jax_enable_x64 configuration option or the JAX_ENABLE_X64 shell environment variable. See https://github.com/google/jax#current-gotchas for more.\n",
            "  lax._check_user_dtype_supported(dtype, \"astype\")\n",
            "/usr/local/lib/python3.7/dist-packages/jax/_src/numpy/lax_numpy.py:6493: UserWarning: Explicitly requested dtype <class 'jax._src.numpy.lax_numpy.int64'> requested in astype is not available, and will be truncated to dtype int32. To enable more dtypes, set the jax_enable_x64 configuration option or the JAX_ENABLE_X64 shell environment variable. See https://github.com/google/jax#current-gotchas for more.\n",
            "  lax._check_user_dtype_supported(dtype, \"astype\")\n"
          ]
        }
      ]
    },
    {
      "cell_type": "code",
      "metadata": {
        "colab": {
          "base_uri": "https://localhost:8080/",
          "height": 265
        },
        "id": "isktGi4IvxwC",
        "outputId": "fdc3baac-0ffe-4c31-bbdd-a42f9dc3f2b4"
      },
      "source": [
        "hist2d(samples[:,0], samples[:,1],32);"
      ],
      "execution_count": null,
      "outputs": [
        {
          "output_type": "display_data",
          "data": {
            "image/png": "[encoded data removed]",
            "text/plain": [
              "<Figure size 432x288 with 1 Axes>"
            ]
          },
          "metadata": {
            "needs_background": "light"
          }
        }
      ]
    },
    {
      "cell_type": "markdown",
      "metadata": {
        "id": "ATuprkAj3j9W"
      },
      "source": [
        "Ok, I mean, that's cool, but you know what would be really cool? it's to run a bunch of chains in parallel!"
      ]
    },
    {
      "cell_type": "code",
      "metadata": {
        "id": "tWJ5WfdXvxoj"
      },
      "source": [
        "# We can batch the log likelihood\n",
        "batched_log_likelihood = jax.vmap(log_likelihood)"
      ],
      "execution_count": null,
      "outputs": []
    },
    {
      "cell_type": "code",
      "metadata": {
        "id": "xmm2ZNM54Ewn"
      },
      "source": [
        "init_params = params.reshape([1,2]) + 0.05*randn(16,2)"
      ],
      "execution_count": null,
      "outputs": []
    },
    {
      "cell_type": "code",
      "metadata": {
        "id": "OVHNMCgcvxjp"
      },
      "source": [
        "@jax.jit\n",
        "def get_samples():\n",
        "  adaptive_hmc = tfp.mcmc.SimpleStepSizeAdaptation(\n",
        "      tfp.mcmc.HamiltonianMonteCarlo(\n",
        "          target_log_prob_fn=batched_log_likelihood,\n",
        "          num_leapfrog_steps=3,\n",
        "          step_size=0.005),\n",
        "      num_adaptation_steps=20)\n",
        "\n",
        "  samples, is_accepted = tfp.mcmc.sample_chain(\n",
        "      num_results=200,\n",
        "      num_burnin_steps=50,\n",
        "      current_state=init_params,\n",
        "      kernel=adaptive_hmc,\n",
        "      trace_fn=lambda _, pkr: pkr.inner_results.is_accepted,\n",
        "      seed=jax.random.PRNGKey(0))\n",
        "  return samples, is_accepted"
      ],
      "execution_count": null,
      "outputs": []
    },
    {
      "cell_type": "code",
      "metadata": {
        "colab": {
          "base_uri": "https://localhost:8080/"
        },
        "id": "NjbwZxSF5LGE",
        "outputId": "8fc9b91b-2967-4431-ff89-08cd7ada0ec2"
      },
      "source": [
        "samples, is_accepted = get_samples()"
      ],
      "execution_count": null,
      "outputs": [
        {
          "output_type": "stream",
          "name": "stderr",
          "text": [
            "/usr/local/lib/python3.7/dist-packages/jax/_src/numpy/lax_numpy.py:6493: UserWarning: Explicitly requested dtype float64 requested in astype is not available, and will be truncated to dtype float32. To enable more dtypes, set the jax_enable_x64 configuration option or the JAX_ENABLE_X64 shell environment variable. See https://github.com/google/jax#current-gotchas for more.\n",
            "  lax._check_user_dtype_supported(dtype, \"astype\")\n",
            "/usr/local/lib/python3.7/dist-packages/jax/_src/numpy/lax_numpy.py:6493: UserWarning: Explicitly requested dtype <class 'jax._src.numpy.lax_numpy.int64'> requested in astype is not available, and will be truncated to dtype int32. To enable more dtypes, set the jax_enable_x64 configuration option or the JAX_ENABLE_X64 shell environment variable. See https://github.com/google/jax#current-gotchas for more.\n",
            "  lax._check_user_dtype_supported(dtype, \"astype\")\n"
          ]
        }
      ]
    },
    {
      "cell_type": "code",
      "metadata": {
        "colab": {
          "base_uri": "https://localhost:8080/"
        },
        "id": "YIg65wVU8H14",
        "outputId": "b5dbb00c-7b2a-43e5-8d4d-ac2f460e4a93"
      },
      "source": [
        "# Removing non-accepted samples\n",
        "samples = samples[0][samples[1]]\n",
        "samples.shape"
      ],
      "execution_count": null,
      "outputs": [
        {
          "output_type": "execute_result",
          "data": {
            "text/plain": [
              "(10460, 2)"
            ]
          },
          "metadata": {},
          "execution_count": 89
        }
      ]
    },
    {
      "cell_type": "code",
      "metadata": {
        "colab": {
          "base_uri": "https://localhost:8080/",
          "height": 265
        },
        "id": "16-XG1LX8WZf",
        "outputId": "a624d43f-a736-4618-d595-f61b6af123f5"
      },
      "source": [
        "hist2d(samples[:,0], samples[:,1],32);"
      ],
      "execution_count": null,
      "outputs": [
        {
          "output_type": "display_data",
          "data": {
            "image/png": "[encoded data removed]",
            "text/plain": [
              "<Figure size 432x288 with 1 Axes>"
            ]
          },
          "metadata": {
            "needs_background": "light"
          }
        }
      ]
    },
    {
      "cell_type": "markdown",
      "metadata": {
        "id": "XicWtQ4i8ZQ2"
      },
      "source": [
        "Isn't that nice!!!!"
      ]
    },
    {
      "cell_type": "markdown",
      "metadata": {
        "id": "gt918qCn6m9-"
      },
      "source": [
        "And that's not  all! You can distribute the MCMC on all GPUs on a node using the `pmap` function in JAX. \n",
        "\n",
        "Checkout this great [tutorial on Distributed Inference with JAX](https://www.tensorflow.org/probability/examples/Distributed_Inference_with_JAX)!"
      ]
    },
    {
      "cell_type": "markdown",
      "metadata": {
        "id": "Oc8cJYNN6W9a"
      },
      "source": [
        "## Fitting light profiles\n",
        "\n",
        "Let's see if we can do an ngmix-like code on GPU easily."
      ]
    },
    {
      "cell_type": "code",
      "metadata": {
        "id": "tuvumnJfvboZ"
      },
      "source": [
        "!pip install --quiet git+https://github.com/esheldon/ngmix.git\n",
        "!pip install --quiet galsim\n",
        "!pip install --quiet optax"
      ],
      "execution_count": null,
      "outputs": []
    },
    {
      "cell_type": "code",
      "metadata": {
        "id": "psErBusv7yid"
      },
      "source": [
        "import numpy as np\n",
        "import galsim\n",
        "import ngmix"
      ],
      "execution_count": null,
      "outputs": []
    },
    {
      "cell_type": "code",
      "metadata": {
        "cellView": "form",
        "id": "Mljv1YcCnRbE"
      },
      "source": [
        ""
      ],
      "execution_count": null,
      "outputs": []
    },
    {
      "cell_type": "code",
      "metadata": {
        "colab": {
          "base_uri": "https://localhost:8080/",
          "height": 284
        },
        "id": "P1J16pnf736t",
        "outputId": "aef43830-9fbd-44b9-f837-dbb5b557f1ca"
      },
      "source": [
        "# Generate some data\n",
        "rng = np.random.RandomState(1234)\n",
        "\n",
        "obs, obj_pars, true_im = make_data(rng=rng, noise=0.1)\n",
        "\n",
        "imshow(obs.image)"
      ],
      "execution_count": null,
      "outputs": [
        {
          "output_type": "execute_result",
          "data": {
            "text/plain": [
              "<matplotlib.image.AxesImage at 0x7f586ff2a890>"
            ]
          },
          "metadata": {},
          "execution_count": 170
        },
        {
          "output_type": "display_data",
          "data": {
            "image/png": "[encoded data removed]",
            "text/plain": [
              "<Figure size 432x288 with 1 Axes>"
            ]
          },
          "metadata": {
            "needs_background": "light"
          }
        }
      ]
    },
    {
      "cell_type": "markdown",
      "metadata": {
        "id": "tiETaBE98iDO"
      },
      "source": [
        "#### Fitting that image with ngmix"
      ]
    },
    {
      "cell_type": "code",
      "metadata": {
        "id": "y2vC3Op28FD1"
      },
      "source": [
        "# fit the object to an exponential disk\n",
        "prior = get_prior(rng=rng, scale=obs.jacobian.scale)\n",
        "# fit using the levenberg marquards algorithm\n",
        "fitter = ngmix.fitting.Fitter(model='gauss', prior=prior)\n",
        "\n",
        "\n",
        "# make parameter guesses based on a psf flux and a rough T\n",
        "guesser = ngmix.guessers.TPSFFluxAndPriorGuesser(\n",
        "    rng=rng,\n",
        "    T=0.25,\n",
        "    prior=prior,\n",
        ")\n",
        "\n",
        "# psf fitting with coelliptical gaussians\n",
        "psf_ngauss = 5\n",
        "psf_fitter = ngmix.fitting.Fitter(model='gauss')\n",
        "# special guesser for coelliptical gaussians\n",
        "psf_guesser = ngmix.guessers.SimplePSFGuesser(rng=rng)\n",
        "\n",
        "# this runs the fitter. We set ntry=2 to retry the fit if it fails\n",
        "psf_runner = ngmix.runners.PSFRunner(\n",
        "    fitter=psf_fitter, guesser=psf_guesser,\n",
        "    ntry=2,\n",
        ")\n",
        "runner = ngmix.runners.Runner(\n",
        "    fitter=fitter, guesser=guesser,\n",
        "    ntry=2,\n",
        ")\n",
        "\n",
        "# this bootstraps the process, first fitting psfs then the object\n",
        "boot = ngmix.bootstrap.Bootstrapper(\n",
        "    runner=runner,\n",
        "    psf_runner=psf_runner,\n",
        ")\n",
        "\n",
        "res = boot.go(obs)"
      ],
      "execution_count": null,
      "outputs": []
    },
    {
      "cell_type": "code",
      "metadata": {
        "colab": {
          "base_uri": "https://localhost:8080/"
        },
        "id": "2abuk_ZT8wWh",
        "outputId": "9dc27486-671d-4af4-c951-e4b718a4a500"
      },
      "source": [
        "# Timing the fitting\n",
        "%timeit res = boot.go(obs)"
      ],
      "execution_count": null,
      "outputs": [
        {
          "output_type": "stream",
          "name": "stdout",
          "text": [
            "10 loops, best of 5: 20.3 ms per loop\n"
          ]
        }
      ]
    },
    {
      "cell_type": "code",
      "metadata": {
        "colab": {
          "base_uri": "https://localhost:8080/",
          "height": 324
        },
        "id": "dxT533B183P4",
        "outputId": "92747bff-ccfd-4b41-daa1-0399d002e6dd"
      },
      "source": [
        "# And let's see how it looks like\n",
        "imfit = res.make_image()\n",
        "\n",
        "figure(figsize=[15,5])\n",
        "subplot(131)\n",
        "imshow(imfit);\n",
        "subplot(132)\n",
        "imshow(obs.image - imfit);\n",
        "subplot(133)\n",
        "imshow(imfit - true_im); colorbar()"
      ],
      "execution_count": null,
      "outputs": [
        {
          "output_type": "execute_result",
          "data": {
            "text/plain": [
              "<matplotlib.colorbar.Colorbar at 0x7f5890b68510>"
            ]
          },
          "metadata": {},
          "execution_count": 173
        },
        {
          "output_type": "display_data",
          "data": {
            "image/png": "[encoded data removed]",
            "text/plain": [
              "<Figure size 1080x360 with 4 Axes>"
            ]
          },
          "metadata": {
            "needs_background": "light"
          }
        }
      ]
    },
    {
      "cell_type": "markdown",
      "metadata": {
        "id": "DrHfw_tG9IXs"
      },
      "source": [
        "#### Doing more or less the same thing in JAX\n",
        "\n",
        "(not exactly the same thing, ran out of time for including PSF)"
      ]
    },
    {
      "cell_type": "code",
      "metadata": {
        "id": "hGmh9DY09Gav"
      },
      "source": [
        "# Now the same thing in JAX\n",
        "import tensorflow_probability as tfp; tfp = tfp.substrates.jax\n",
        "tfd = tfp.distributions\n",
        "\n",
        "def galaxy_model(params):\n",
        "  \"\"\" Forward model of our observations\n",
        "  \"\"\"\n",
        "  dist = tfd.MultivariateNormalTriL(loc=params['center'] + 44/2,\n",
        "                             scale_tril=tfp.bijectors.FillScaleTriL()(params['shape'])\n",
        "                             )\n",
        "  x,y = jnp.meshgrid(jnp.arange(44).astype('float32'), \n",
        "                     jnp.arange(44).astype('float32'))\n",
        "  return params['amplitude']*dist.prob(jnp.stack([x,y], axis=-1))"
      ],
      "execution_count": null,
      "outputs": []
    },
    {
      "cell_type": "code",
      "metadata": {
        "id": "JBYxxxtg9eN7"
      },
      "source": [
        "params={'center': jnp.zeros(2),\n",
        "        'shape': jnp.ones(3),\n",
        "        'amplitude': 10*jnp.ones(1)}"
      ],
      "execution_count": null,
      "outputs": []
    },
    {
      "cell_type": "code",
      "metadata": {
        "id": "NIYa6foY9oZL"
      },
      "source": [
        "im = galaxy_model(params)"
      ],
      "execution_count": null,
      "outputs": []
    },
    {
      "cell_type": "code",
      "metadata": {
        "colab": {
          "base_uri": "https://localhost:8080/",
          "height": 284
        },
        "id": "VRSsnDl89pxB",
        "outputId": "a25849d8-8421-45dd-ec0e-50b725b7d7fc"
      },
      "source": [
        "imshow(im)"
      ],
      "execution_count": null,
      "outputs": [
        {
          "output_type": "execute_result",
          "data": {
            "text/plain": [
              "<matplotlib.image.AxesImage at 0x7f588cb32ad0>"
            ]
          },
          "metadata": {},
          "execution_count": 177
        },
        {
          "output_type": "display_data",
          "data": {
            "image/png": "[encoded data removed]",
            "text/plain": [
              "<Figure size 432x288 with 1 Axes>"
            ]
          },
          "metadata": {
            "needs_background": "light"
          }
        }
      ]
    },
    {
      "cell_type": "code",
      "metadata": {
        "id": "MPGZ8PqN9s9y"
      },
      "source": [
        "# Let's fit!\n",
        "from jax.scipy.optimize import minimize\n",
        "\n",
        "@jax.jit\n",
        "def do_fit(im):\n",
        "\n",
        "  def loss(params):\n",
        "    \"\"\" Loss function, Gaussian likelihood\n",
        "    \"\"\"\n",
        "    center = params[:2]\n",
        "    shape = params[2:5]\n",
        "    amplitude = params[-1]\n",
        "    return jnp.sum((im - galaxy_model({'center': center,\n",
        "                                              'shape': shape,\n",
        "                                              'amplitude': amplitude}))**2)\n",
        "  params={'center': jnp.zeros(2),\n",
        "          'shape': jnp.ones(3),\n",
        "          'amplitude': 10*jnp.ones(1)}\n",
        "\n",
        "  # We use minimize as in normal scipy\n",
        "  opt_params = minimize(loss, \n",
        "         jnp.concatenate([params['center'],\n",
        "                          params['shape'],\n",
        "                          params['amplitude']]), method='BFGS')\n",
        "  \n",
        "  return {'center': opt_params.x[:2],\n",
        "           'shape': opt_params.x[2:5],\n",
        "           'amplitude': opt_params.x[5]}"
      ],
      "execution_count": null,
      "outputs": []
    },
    {
      "cell_type": "code",
      "metadata": {
        "id": "BAFNobmj-YLd"
      },
      "source": [
        "im = jnp.array(obs.image)\n",
        "fitted_params = do_fit(im)"
      ],
      "execution_count": null,
      "outputs": []
    },
    {
      "cell_type": "code",
      "metadata": {
        "colab": {
          "base_uri": "https://localhost:8080/",
          "height": 324
        },
        "id": "EDGtKSOB-f10",
        "outputId": "bfeb8d8f-4ce4-4fd5-ba75-ca706cc62c13"
      },
      "source": [
        "figure(figsize=[15,5])\n",
        "subplot(131)\n",
        "imshow(galaxy_model(fitted_params));\n",
        "subplot(132)\n",
        "imshow(obs.image - galaxy_model(fitted_params));\n",
        "subplot(133)\n",
        "imshow(galaxy_model(fitted_params) - true_im); colorbar()"
      ],
      "execution_count": null,
      "outputs": [
        {
          "output_type": "execute_result",
          "data": {
            "text/plain": [
              "<matplotlib.colorbar.Colorbar at 0x7f58a4c6d7d0>"
            ]
          },
          "metadata": {},
          "execution_count": 180
        },
        {
          "output_type": "display_data",
          "data": {
            "image/png": "[encoded data removed]",
            "text/plain": [
              "<Figure size 1080x360 with 4 Axes>"
            ]
          },
          "metadata": {
            "needs_background": "light"
          }
        }
      ]
    },
    {
      "cell_type": "code",
      "metadata": {
        "colab": {
          "base_uri": "https://localhost:8080/"
        },
        "id": "ror7ovE_94dj",
        "outputId": "eaef02d5-b0be-433c-ffa0-4508caa76189"
      },
      "source": [
        "%timeit do_fit(im)"
      ],
      "execution_count": null,
      "outputs": [
        {
          "output_type": "stream",
          "name": "stdout",
          "text": [
            "100 loops, best of 5: 17.6 ms per loop\n"
          ]
        }
      ]
    },
    {
      "cell_type": "markdown",
      "metadata": {
        "id": "IRYMNgkA-QVo"
      },
      "source": [
        "Hum ok, not super mind-blowing, but that's because the size of the problem is very small!\n",
        "\n",
        "BUT! at no extra cost, we can just batch our fitting function!"
      ]
    },
    {
      "cell_type": "code",
      "metadata": {
        "id": "MpCVk3Jx-NcR"
      },
      "source": [
        "batched_fit = jax.jit(jax.vmap(do_fit))\n",
        "\n",
        "# Create a batch of 2048 \n",
        "ims = jnp.repeat(im.reshape([1,44,44]), 2048, 0)"
      ],
      "execution_count": null,
      "outputs": []
    },
    {
      "cell_type": "code",
      "metadata": {
        "colab": {
          "base_uri": "https://localhost:8080/"
        },
        "id": "oONl7TLe-_ev",
        "outputId": "7168bea6-a59e-48ca-fae9-f32f3b4b6d1f"
      },
      "source": [
        "%timeit batched_fit(ims)"
      ],
      "execution_count": null,
      "outputs": [
        {
          "output_type": "stream",
          "name": "stdout",
          "text": [
            "1 loop, best of 5: 3.71 s per loop\n"
          ]
        }
      ]
    },
    {
      "cell_type": "markdown",
      "metadata": {
        "id": "ckKeSIEl_oeg"
      },
      "source": [
        ""
      ]
    },
    {
      "cell_type": "code",
      "metadata": {
        "colab": {
          "base_uri": "https://localhost:8080/"
        },
        "id": "DzdWZR5u_qpx",
        "outputId": "5a22a41e-340e-4feb-8dfd-f4e39ca644e3"
      },
      "source": [
        "# So it's that many ms\n",
        "3.7/2048*1000"
      ],
      "execution_count": null,
      "outputs": [
        {
          "output_type": "execute_result",
          "data": {
            "text/plain": [
              "1.806640625"
            ]
          },
          "metadata": {},
          "execution_count": 182
        }
      ]
    }
  ]
}